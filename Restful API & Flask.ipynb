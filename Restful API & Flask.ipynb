{
 "cells": [
  {
   "cell_type": "code",
   "execution_count": null,
   "id": "576a5cdf-54a9-4f16-af60-957e0db5e228",
   "metadata": {},
   "outputs": [],
   "source": [
    "# Q1: What is a RESTful API?\n",
    "# A RESTful API follows REST principles, using HTTP methods (GET, POST, PUT, DELETE) \n",
    "# to perform CRUD operations on resources identified by URLs.\n"
   ]
  },
  {
   "cell_type": "code",
   "execution_count": null,
   "id": "15a2d2e1-96ee-4511-ace3-3f61b19968dc",
   "metadata": {},
   "outputs": [],
   "source": [
    "# Q2: Explain the concept of API specification\n",
    "# API specification (like OpenAPI/Swagger) defines how the API works:\n",
    "# endpoints, request/response format, parameters, and authentication. \n",
    "# It ensures consistency and easier collaboration.\n"
   ]
  },
  {
   "cell_type": "code",
   "execution_count": null,
   "id": "084c7763-db70-41fa-a6f0-5989c47c4c78",
   "metadata": {},
   "outputs": [],
   "source": [
    "# Q3: What is Flask, and why is it popular for building APIs?\n",
    "# Flask is a lightweight Python web framework. Popular because:\n",
    "# - Easy to learn\n",
    "# - Minimal boilerplate\n",
    "# - Flexible and extensible (Flask-RESTful, Flask-SQLAlchemy, etc.)\n"
   ]
  },
  {
   "cell_type": "code",
   "execution_count": 2,
   "id": "3a80fd93-f788-4d60-9efc-b3ba9468f4c2",
   "metadata": {},
   "outputs": [],
   "source": [
    "# Q4: What is routing in Flask?\n",
    "# Routing maps URLs to functions in Flask.\n",
    "\n",
    "from flask import Flask\n",
    "app = Flask(__name__)\n",
    "\n",
    "@app.route(\"/\")\n",
    "def home():\n",
    "    return \"Hello, Flask!\"\n"
   ]
  },
  {
   "cell_type": "code",
   "execution_count": 4,
   "id": "d208ca34-933c-4954-acc5-0ffe984cb75b",
   "metadata": {},
   "outputs": [
    {
     "name": "stdout",
     "output_type": "stream",
     "text": [
      "Response: Hello Flask in Jupyter!\n"
     ]
    }
   ],
   "source": [
    "# Q5: How do you create a simple Flask application?\n",
    "\n",
    "from flask import Flask\n",
    "\n",
    "app = Flask(__name__)\n",
    "\n",
    "@app.route(\"/\")\n",
    "def home():\n",
    "    return \"Hello Flask in Jupyter!\"\n",
    "\n",
    "# Test inside Jupyter (no server needed)\n",
    "with app.test_client() as client:\n",
    "    response = client.get(\"/\")\n",
    "    print(\"Response:\", response.data.decode())\n"
   ]
  },
  {
   "cell_type": "code",
   "execution_count": null,
   "id": "1434327f-c0f9-42b0-91df-90132e73c2ae",
   "metadata": {},
   "outputs": [],
   "source": [
    "# Q6: What are HTTP methods used in RESTful APIs?\n",
    "# - GET: Retrieve data\n",
    "# - POST: Create data\n",
    "# - PUT/PATCH: Update data\n",
    "# - DELETE: Remove data\n"
   ]
  },
  {
   "cell_type": "code",
   "execution_count": null,
   "id": "cc8713ea-7642-459f-b6e9-5d818ecbef9b",
   "metadata": {},
   "outputs": [],
   "source": [
    "# Q7: What is the purpose of @app.route() decorator in Flask?\n",
    "# It binds a function to a specific URL endpoint.\n"
   ]
  },
  {
   "cell_type": "code",
   "execution_count": null,
   "id": "52938732-cd9e-4b75-8692-4eb1c5e8f3e8",
   "metadata": {},
   "outputs": [],
   "source": [
    "# Q8: Difference between GET and POST?\n",
    "# GET → retrieves data (parameters in URL, no body).\n",
    "# POST → sends data to server (parameters in request body).\n"
   ]
  },
  {
   "cell_type": "code",
   "execution_count": 6,
   "id": "83e92963-43c0-4a1a-8efc-3cee36faf5ce",
   "metadata": {},
   "outputs": [
    {
     "name": "stdout",
     "output_type": "stream",
     "text": [
      "Home: Hello!\n",
      "404: {'error': 'Resource not found'}\n"
     ]
    }
   ],
   "source": [
    "# Q9: How do you handle errors in Flask APIs?\n",
    "\n",
    "from flask import Flask, jsonify\n",
    "\n",
    "# Create app\n",
    "app = Flask(__name__)\n",
    "\n",
    "# Define routes + error handlers BEFORE any requests\n",
    "@app.route(\"/\")\n",
    "def home():\n",
    "    return \"Hello!\"\n",
    "\n",
    "@app.errorhandler(404)\n",
    "def not_found(e):\n",
    "    return jsonify({\"error\": \"Resource not found\"}), 404\n",
    "\n",
    "# Now test with test_client\n",
    "with app.test_client() as client:\n",
    "    print(\"Home:\", client.get(\"/\").data.decode())\n",
    "    print(\"404:\", client.get(\"/notfound\").json)\n"
   ]
  },
  {
   "cell_type": "code",
   "execution_count": 1,
   "id": "3a2d12e8-06a5-47bd-9e2a-f59d625326c3",
   "metadata": {},
   "outputs": [
    {
     "name": "stdout",
     "output_type": "stream",
     "text": [
      "✅ Flask connected to database and tables created.\n"
     ]
    }
   ],
   "source": [
    "# Q10: How do you connect Flask to SQL database?\n",
    "# Using Flask-SQLAlchemy\n",
    "\n",
    "from flask import Flask\n",
    "from flask_sqlalchemy import SQLAlchemy\n",
    "\n",
    "app = Flask(__name__)\n",
    "app.config[\"SQLALCHEMY_DATABASE_URI\"] = \"sqlite:///test.db\"\n",
    "app.config[\"SQLALCHEMY_TRACK_MODIFICATIONS\"] = False  \n",
    "\n",
    "db = SQLAlchemy(app)\n",
    "\n",
    "class User(db.Model):\n",
    "    id = db.Column(db.Integer, primary_key=True)\n",
    "    name = db.Column(db.String(100), nullable=False)\n",
    "\n",
    "with app.app_context():\n",
    "    db.create_all()\n",
    "\n",
    "print(\"✅ Flask connected to database and tables created.\")\n",
    "\n"
   ]
  },
  {
   "cell_type": "code",
   "execution_count": null,
   "id": "4c368e43-4834-457e-a170-102a01eb55e5",
   "metadata": {},
   "outputs": [],
   "source": [
    "# Q11: Role of Flask-SQLAlchemy\n",
    "# It simplifies database integration with ORM support.\n"
   ]
  },
  {
   "cell_type": "code",
   "execution_count": 11,
   "id": "9d0904c1-e190-41dc-8fab-377a48fa9a70",
   "metadata": {},
   "outputs": [],
   "source": [
    "# Q12: What are Flask blueprints, and how are they useful?\n",
    "# Blueprints help organize Flask app into modules.\n",
    "\n",
    "from flask import Blueprint\n",
    "user_bp = Blueprint(\"user\", __name__)\n",
    "\n",
    "@user_bp.route(\"/profile\")\n",
    "def profile():\n",
    "    return \"User Profile\"\n"
   ]
  },
  {
   "cell_type": "code",
   "execution_count": 14,
   "id": "3d261f93-4506-4d16-ade3-63863362dc44",
   "metadata": {},
   "outputs": [],
   "source": [
    "# Q12: What are Flask blueprints, and how are they useful?\n",
    "# Blueprints help organize Flask app into modules.\n",
    "\n",
    "from flask import Blueprint\n",
    "user_bp = Blueprint(\"user\", __name__)\n",
    "\n",
    "@user_bp.route(\"/profile\")\n",
    "def profile():\n",
    "    return \"User Profile\"\n"
   ]
  },
  {
   "cell_type": "code",
   "execution_count": 17,
   "id": "2f71a5da-454e-4819-972a-dd478bba49fd",
   "metadata": {},
   "outputs": [],
   "source": [
    "# Q13: Purpose of Flask's request object\n",
    "# The request object is used to access request data (form fields, JSON body, query parameters, etc.)\n",
    "\n",
    "from flask import Flask, request\n",
    "\n",
    "app = Flask(__name__)\n",
    "\n",
    "# Remove old route (helps in Jupyter to avoid AssertionError if cell re-run)\n",
    "app.view_functions.pop(\"submit\", None)\n",
    "\n",
    "@app.route(\"/submit\", methods=[\"POST\"])\n",
    "def submit():\n",
    "    data = request.json  # Access JSON data from client request\n",
    "    return data\n"
   ]
  },
  {
   "cell_type": "code",
   "execution_count": 18,
   "id": "53f2683a-57d1-416a-9153-9d14ab2c8676",
   "metadata": {},
   "outputs": [],
   "source": [
    "# Q14: How do you create a RESTful API endpoint in Flask?\n",
    "\n",
    "@app.route(\"/api/data\", methods=[\"GET\"])\n",
    "def get_data():\n",
    "    return {\"message\": \"This is an API response\"}\n"
   ]
  },
  {
   "cell_type": "code",
   "execution_count": 20,
   "id": "53744a96-85bb-4c86-b23a-5dbb53ff8bdd",
   "metadata": {},
   "outputs": [],
   "source": [
    "# Q15: Purpose of Flask's jsonify()\n",
    "# jsonify() converts Python dictionaries/lists → JSON HTTP responses.\n",
    "\n",
    "from flask import Flask, jsonify\n",
    "\n",
    "# Make sure app exists (reuse previous app if already created)\n",
    "try:\n",
    "    app\n",
    "except NameError:\n",
    "    app = Flask(__name__)\n",
    "\n",
    "# Remove old route definition (prevents AssertionError in Jupyter)\n",
    "app.view_functions.pop(\"json_example\", None)\n",
    "\n",
    "@app.route(\"/json\")\n",
    "def json_example():\n",
    "    return jsonify({\"msg\": \"Hello JSON\"})\n"
   ]
  },
  {
   "cell_type": "code",
   "execution_count": 21,
   "id": "ef164374-dd1f-4b0c-aa94-4f74db15b65e",
   "metadata": {},
   "outputs": [],
   "source": [
    "# Q16: Flask’s url_for() function\n",
    "# Generates URLs dynamically.\n",
    "\n",
    "from flask import url_for\n",
    "\n",
    "@app.route(\"/about\")\n",
    "def about():\n",
    "    return \"About Page\"\n",
    "\n",
    "@app.route(\"/link\")\n",
    "def link():\n",
    "    return f\"Go to: {url_for('about')}\"\n"
   ]
  },
  {
   "cell_type": "code",
   "execution_count": 22,
   "id": "a7a5d190-00d3-4b05-9f6a-adf3a89ebf0a",
   "metadata": {},
   "outputs": [],
   "source": [
    "# Q17: How does Flask handle static files?\n",
    "# Place files in \"static/\" folder and access via /static/filename.\n",
    "\n",
    "# Example: /static/style.css\n"
   ]
  },
  {
   "cell_type": "code",
   "execution_count": 23,
   "id": "3c5e1ca2-de8f-4d9d-8c1d-8792fc15ee76",
   "metadata": {},
   "outputs": [],
   "source": [
    "# Q18: What is an API specification in Flask?\n",
    "# Defines endpoints, request types, parameters, responses \n",
    "# → ensures documentation & integration.\n"
   ]
  },
  {
   "cell_type": "code",
   "execution_count": 24,
   "id": "bb0a9a21-cb1d-4cb2-baa6-92d8ab67f8b5",
   "metadata": {},
   "outputs": [],
   "source": [
    "# Q19: What are HTTP status codes?\n",
    "# They indicate response status:\n",
    "# 200 (OK), 201 (Created), 400 (Bad Request), 404 (Not Found), 500 (Server Error).\n"
   ]
  },
  {
   "cell_type": "code",
   "execution_count": 25,
   "id": "54954c63-1308-4222-9a65-3453b4c5db17",
   "metadata": {},
   "outputs": [],
   "source": [
    "# Q20: How do you handle POST requests in Flask?\n",
    "\n",
    "@app.route(\"/post\", methods=[\"POST\"])\n",
    "def post_example():\n",
    "    data = request.json\n",
    "    return {\"received\": data}, 201\n"
   ]
  },
  {
   "cell_type": "code",
   "execution_count": 26,
   "id": "5144f764-80ec-42fa-b570-a0a09fc48c2a",
   "metadata": {},
   "outputs": [],
   "source": [
    "# Q21: How would you secure a Flask API?\n",
    "# - Use authentication (JWT, OAuth)\n",
    "# - Validate input\n",
    "# - Use HTTPS\n",
    "# - Rate limiting\n"
   ]
  },
  {
   "cell_type": "code",
   "execution_count": 27,
   "id": "4cf78a32-1a0d-431d-bc3c-33b8b47a9673",
   "metadata": {},
   "outputs": [],
   "source": [
    "# Q22: Significance of Flask-RESTful extension\n",
    "# Simplifies API building with Resource classes and automatic JSON support.\n"
   ]
  },
  {
   "cell_type": "code",
   "execution_count": 28,
   "id": "18711760-caea-4738-aa1c-77d82ce746f1",
   "metadata": {},
   "outputs": [],
   "source": [
    "# Q23: Role of Flask’s session object\n",
    "# Stores user-specific data across requests (cookie-based).\n"
   ]
  },
  {
   "cell_type": "code",
   "execution_count": 30,
   "id": "42c8fea6-6995-43fe-ad8a-f7f0f0ffeca2",
   "metadata": {},
   "outputs": [
    {
     "name": "stdout",
     "output_type": "stream",
     "text": [
      "Response: Hello Flask in Jupyter!\n"
     ]
    }
   ],
   "source": [
    "# Q1: How do you create a basic Flask application?\n",
    "from flask import Flask\n",
    "\n",
    "app = Flask(__name__)\n",
    "\n",
    "@app.route(\"/\")\n",
    "def home():\n",
    "    return \"Hello Flask in Jupyter!\"\n",
    "\n",
    "# Use test_client to simulate requests inside Jupyter\n",
    "with app.test_client() as client:\n",
    "    response = client.get(\"/\")\n",
    "    print(\"Response:\", response.data.decode())\n"
   ]
  },
  {
   "cell_type": "code",
   "execution_count": 31,
   "id": "d034b091-135b-48e2-b77f-b880faa72623",
   "metadata": {},
   "outputs": [],
   "source": [
    "# Q2: How do you serve static files like images or CSS in Flask?\n",
    "# - Place files in a folder named \"static/\"\n",
    "# - Access them via /static/<filename>\n",
    "\n",
    "# Example:\n",
    "# <link rel=\"stylesheet\" href=\"{{ url_for('static', filename='style.css') }}\">\n"
   ]
  },
  {
   "cell_type": "code",
   "execution_count": 35,
   "id": "e42af250-bddf-48c6-81be-cca6e6a4fc43",
   "metadata": {},
   "outputs": [],
   "source": [
    "# Q3: How do you define different routes with different HTTP methods?\n",
    "\n",
    "from flask import Flask, request\n",
    "\n",
    "# Create a new app instance for this question\n",
    "app3 = Flask(__name__)\n",
    "\n",
    "@app3.route(\"/data\", methods=[\"GET\", \"POST\"])\n",
    "def data():\n",
    "    if request.method == \"GET\":\n",
    "        return \"GET request received\"\n",
    "    elif request.method == \"POST\":\n",
    "        return \"POST request received\"\n"
   ]
  },
  {
   "cell_type": "code",
   "execution_count": 37,
   "id": "2fea14e8-b89f-4384-998c-e60fc1be7b2f",
   "metadata": {
    "scrolled": true
   },
   "outputs": [],
   "source": [
    "# Q4: How do you render HTML templates in Flask?\n",
    "\n",
    "from flask import Flask, render_template\n",
    "\n",
    "# Create a new app instance just for this question\n",
    "app4 = Flask(__name__)\n",
    "\n",
    "@app4.route(\"/about\")\n",
    "def about():\n",
    "    return render_template(\"about.html\")  # Looks for templates/about.html\n"
   ]
  },
  {
   "cell_type": "code",
   "execution_count": 39,
   "id": "c7c78455-bff2-48a8-a40f-95e65f73ec65",
   "metadata": {
    "scrolled": true
   },
   "outputs": [],
   "source": [
    "# Q5: How can you generate URLs for routes in Flask using url_for?\n",
    "\n",
    "from flask import Flask, url_for\n",
    "\n",
    "# Create a fresh app instance for this question\n",
    "app5 = Flask(__name__)\n",
    "\n",
    "@app5.route(\"/dashboard\")\n",
    "def dashboard():\n",
    "    return \"Dashboard Page\"\n",
    "\n",
    "@app5.route(\"/go-to-dashboard\")\n",
    "def go_to_dashboard():\n",
    "    # url_for generates the URL for the 'dashboard' route\n",
    "    return f\"Go to {url_for('dashboard')}\"\n"
   ]
  },
  {
   "cell_type": "code",
   "execution_count": 40,
   "id": "2aa272aa-6424-45dd-af22-00437fd74ac1",
   "metadata": {},
   "outputs": [],
   "source": [
    "# Q6: How do you handle forms in Flask?\n",
    "\n",
    "from flask import Flask, request, render_template_string\n",
    "\n",
    "app16 = Flask(__name__)\n",
    "\n",
    "@app16.route(\"/form\", methods=[\"GET\", \"POST\"])\n",
    "def form():\n",
    "    if request.method == \"POST\":\n",
    "        name = request.form[\"name\"]\n",
    "        return f\"Hello, {name}!\"\n",
    "    # simple inline template for demo\n",
    "    return render_template_string(\"\"\"\n",
    "        <form method=\"POST\">\n",
    "            Name: <input type=\"text\" name=\"name\">\n",
    "            <input type=\"submit\">\n",
    "        </form>\n",
    "    \"\"\")\n"
   ]
  },
  {
   "cell_type": "code",
   "execution_count": 41,
   "id": "33ab45a6-2ee9-40c5-b92a-c8279cdda150",
   "metadata": {},
   "outputs": [],
   "source": [
    "# Q7: How can you validate form data in Flask?\n",
    "\n",
    "from flask import Flask, request\n",
    "\n",
    "app17 = Flask(__name__)\n",
    "\n",
    "@app17.route(\"/validate\", methods=[\"POST\"])\n",
    "def validate():\n",
    "    username = request.form.get(\"username\", \"\")\n",
    "    if not username:\n",
    "        return \"Username is required!\", 400\n",
    "    return f\"Welcome, {username}!\"\n"
   ]
  },
  {
   "cell_type": "code",
   "execution_count": 42,
   "id": "cfba0b34-8b49-4b1a-bb1e-63e81e02cbed",
   "metadata": {},
   "outputs": [],
   "source": [
    "# Q8: How do you manage sessions in Flask?\n",
    "\n",
    "from flask import Flask, session\n",
    "\n",
    "app18 = Flask(__name__)\n",
    "app18.secret_key = \"mysecret\"  # Required for sessions\n",
    "\n",
    "@app18.route(\"/set-session\")\n",
    "def set_session():\n",
    "    session[\"user\"] = \"Alice\"\n",
    "    return \"Session set!\"\n",
    "\n",
    "@app18.route(\"/get-session\")\n",
    "def get_session():\n",
    "    return f\"User in session: {session.get('user')}\"\n"
   ]
  },
  {
   "cell_type": "code",
   "execution_count": null,
   "id": "4054fcf4-210c-4f54-b309-c3898a631261",
   "metadata": {},
   "outputs": [],
   "source": [
    "# Q9: How do you redirect to a different route in Flask?\n",
    "\n",
    "from flask import Flask, redirect, url_for\n",
    "\n",
    "app19 = Flask(__name__)\n",
    "\n",
    "@app19.route(\"/home\")\n",
    "def home():\n",
    "    return \"Home Page\"\n",
    "\n",
    "@app19.route(\"/go-home\")\n",
    "def go_home():\n",
    "    return redirect(url_for(\"home\"))\n"
   ]
  },
  {
   "cell_type": "code",
   "execution_count": 43,
   "id": "2bad00e9-67ce-44a2-b4e7-aed1bc648421",
   "metadata": {},
   "outputs": [],
   "source": [
    "# Q10: How do you handle errors in Flask (e.g., 404)?\n",
    "\n",
    "from flask import Flask, jsonify\n",
    "\n",
    "app20 = Flask(__name__)\n",
    "\n",
    "@app20.errorhandler(404)\n",
    "def not_found(e):\n",
    "    return jsonify({\"error\": \"Resource not found\"}), 404\n"
   ]
  },
  {
   "cell_type": "code",
   "execution_count": 44,
   "id": "a61e410a-0a29-48af-a628-da16bba30d5e",
   "metadata": {},
   "outputs": [],
   "source": [
    "# Q11: How do you structure a Flask app using Blueprints?\n",
    "\n",
    "from flask import Flask, Blueprint\n",
    "\n",
    "app21 = Flask(__name__)\n",
    "\n",
    "# Define blueprint\n",
    "bp = Blueprint(\"simple\", __name__)\n",
    "\n",
    "@bp.route(\"/hello\")\n",
    "def hello():\n",
    "    return \"Hello from Blueprint!\"\n",
    "\n",
    "# Register blueprint\n",
    "app21.register_blueprint(bp, url_prefix=\"/bp\")\n"
   ]
  },
  {
   "cell_type": "code",
   "execution_count": 48,
   "id": "623cb2ab-19c7-4764-93e4-c05305973f2e",
   "metadata": {},
   "outputs": [],
   "source": [
    "# Q12: How do you define a custom Jinja filter in Flask?\n",
    "\n",
    "from flask import Flask\n",
    "\n",
    "app22 = Flask(__name__)\n",
    "\n",
    "# Custom filter\n",
    "def reverse_string(s):\n",
    "    return s[::-1]\n",
    "\n",
    "app22.jinja_env.filters[\"reverse\"] = reverse_string\n"
   ]
  },
  {
   "cell_type": "code",
   "execution_count": 49,
   "id": "c4fc35ee-445d-42be-9345-646937e885c1",
   "metadata": {},
   "outputs": [],
   "source": [
    "# Q13: How can you redirect with query parameters in Flask?\n",
    "\n",
    "from flask import Flask, redirect, url_for\n",
    "\n",
    "app23 = Flask(__name__)\n",
    "\n",
    "@app23.route(\"/target\")\n",
    "def target():\n",
    "    return \"Target page with query params!\"\n",
    "\n",
    "@app23.route(\"/go\")\n",
    "def go():\n",
    "    return redirect(url_for(\"target\", user=\"Alice\", id=10))\n"
   ]
  },
  {
   "cell_type": "code",
   "execution_count": 50,
   "id": "2ae2f81d-9938-4b67-82fd-9b57369b70cd",
   "metadata": {},
   "outputs": [],
   "source": [
    "# Q14: How do you return JSON responses in Flask?\n",
    "\n",
    "from flask import Flask, jsonify\n",
    "\n",
    "app24 = Flask(__name__)\n",
    "\n",
    "@app24.route(\"/json\")\n",
    "def json_resp():\n",
    "    return jsonify({\"status\": \"success\", \"data\": [1, 2, 3]})\n"
   ]
  },
  {
   "cell_type": "code",
   "execution_count": 51,
   "id": "7ffee2cf-870a-4fc9-96bf-d98bed77645d",
   "metadata": {},
   "outputs": [],
   "source": [
    "# 125: How do you capture URL parameters in Flask?\n",
    "\n",
    "from flask import Flask\n",
    "\n",
    "app25 = Flask(__name__)\n",
    "\n",
    "@app25.route(\"/user/<username>\")\n",
    "def profile(username):\n",
    "    return f\"Profile page of {username}\"\n"
   ]
  },
  {
   "cell_type": "code",
   "execution_count": null,
   "id": "7509bbe1-b503-43ff-95da-cdf6dd2ed0a1",
   "metadata": {},
   "outputs": [],
   "source": []
  }
 ],
 "metadata": {
  "kernelspec": {
   "display_name": "Python 3 (ipykernel)",
   "language": "python",
   "name": "python3"
  },
  "language_info": {
   "codemirror_mode": {
    "name": "ipython",
    "version": 3
   },
   "file_extension": ".py",
   "mimetype": "text/x-python",
   "name": "python",
   "nbconvert_exporter": "python",
   "pygments_lexer": "ipython3",
   "version": "3.13.5"
  }
 },
 "nbformat": 4,
 "nbformat_minor": 5
}
