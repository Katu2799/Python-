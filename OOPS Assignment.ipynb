{
 "cells": [
  {
   "cell_type": "code",
   "execution_count": null,
   "id": "5093c58b-1946-4b11-babf-7978872e7abf",
   "metadata": {},
   "outputs": [],
   "source": [
    "#Que What is Object-Oriented Programming (OOP)?\n",
    "\n",
    "#Ans OOP is a programming paradigm based on the concept of objects containing data and methods. It promotes code reusability, modularity, and abstraction."
   ]
  },
  {
   "cell_type": "code",
   "execution_count": null,
   "id": "f587dd80-73a7-4a12-88c0-a96966b30166",
   "metadata": {},
   "outputs": [],
   "source": [
    "#Que What is a class in OOP?\n",
    "\n",
    "#Ans A class is a blueprint for creating objects, defining attributes and methods that the objects will have. It encapsulates data and behavior in one unit."
   ]
  },
  {
   "cell_type": "code",
   "execution_count": null,
   "id": "f0007922-14f1-4907-809d-e79b527a5b05",
   "metadata": {},
   "outputs": [],
   "source": [
    "#Que  What is an object in OOP?\n",
    "\n",
    "#Ans An object is an instance of a class that holds actual data and can use the class's methods. It represents a real-world entity.An object is an instance of a class that holds actual data and can use the class's methods. It represents a real-world entity."
   ]
  },
  {
   "cell_type": "code",
   "execution_count": null,
   "id": "dd2c3a4c-58df-4200-b2cc-57bcf247460f",
   "metadata": {},
   "outputs": [],
   "source": [
    "#Que What is the difference between abstraction and encapsulation?\n",
    "\n",
    "#Ans Abstraction hides complex implementation details, showing only essential features. Encapsulation wraps data and methods into one unit, protecting it from external interference."
   ]
  },
  {
   "cell_type": "code",
   "execution_count": null,
   "id": "3e21000c-3fd8-4f12-a8ae-75ffd8f7ecc5",
   "metadata": {},
   "outputs": [],
   "source": [
    "#Que What are dunder methods in Python?\n",
    "\n",
    "#Ans Dunder (double underscore) methods like __init__, __str__, are special methods with double underscores used for operator overloading and object behavior. They're also known as magic methods."
   ]
  },
  {
   "cell_type": "code",
   "execution_count": null,
   "id": "8ac0eb58-aa5c-4829-a34d-04d9fe80d140",
   "metadata": {},
   "outputs": [],
   "source": [
    "#Que Explain the concept of inheritance in OOP.\n",
    "\n",
    "#Ans Inheritance allows a class (child) to acquire properties and behaviors of another class (parent). It promotes code reuse and logical hierarchy."
   ]
  },
  {
   "cell_type": "code",
   "execution_count": null,
   "id": "9eeb692e-7982-447e-b175-bb606abab85f",
   "metadata": {},
   "outputs": [],
   "source": [
    "#Que What is polymorphism in OOP?\n",
    "\n",
    "#Ans Polymorphism allows methods to behave differently based on the object calling them. It enables flexibility in method implementation."
   ]
  },
  {
   "cell_type": "code",
   "execution_count": null,
   "id": "2e8a5fde-8e80-41fe-8886-62aec9bee7c4",
   "metadata": {},
   "outputs": [],
   "source": [
    "#Que How is encapsulation achieved in Python?\n",
    "\n",
    "#Ans Encapsulation is achieved using private (_ or __) variables and providing getter/setter methods. It restricts direct access to internal data."
   ]
  },
  {
   "cell_type": "code",
   "execution_count": null,
   "id": "b45b0a44-479e-45d7-a36a-681a04ac401f",
   "metadata": {},
   "outputs": [],
   "source": [
    "#Que What is a constructor in Python?\n",
    "\n",
    "#Ans A constructor is the __init__ method in Python that initializes a new object. It is automatically called when an object is created."
   ]
  },
  {
   "cell_type": "code",
   "execution_count": null,
   "id": "041e3ce5-86d9-44a2-8a0a-468a330c5209",
   "metadata": {},
   "outputs": [],
   "source": [
    "#Que What are class and static methods in Python?\n",
    "\n",
    "#Ans Class methods use @classmethod and take cls as a parameter; static methods use @staticmethod and don’t take self or cls. Class methods affect the class state, static methods are utility functions."
   ]
  },
  {
   "cell_type": "code",
   "execution_count": null,
   "id": "e7cf603f-be27-4fec-8fee-f76268bf0a47",
   "metadata": {},
   "outputs": [],
   "source": [
    "#Que What is method overloading in Python?\n",
    "\n",
    "#Ans Python doesn’t support traditional method overloading but can simulate it using default arguments or *args/**kwargs. It allows a method to behave differently based on arguments."
   ]
  },
  {
   "cell_type": "code",
   "execution_count": null,
   "id": "6d800bb3-f0b0-4e61-a91e-a305783ff4dc",
   "metadata": {},
   "outputs": [],
   "source": [
    "#Que What is method overriding in OOP?\n",
    "\n",
    "#Ans Method overriding is redefining a parent class method in a child class. It allows customized behavior in inherited methods."
   ]
  },
  {
   "cell_type": "code",
   "execution_count": null,
   "id": "30659840-d7da-44de-9151-9ab1b7d2297d",
   "metadata": {},
   "outputs": [],
   "source": [
    "#Que What is a property decorator in Python?\n",
    "\n",
    "#Ans The @property decorator lets you access a method like an attribute. It's used to create read-only or computed attributes."
   ]
  },
  {
   "cell_type": "code",
   "execution_count": null,
   "id": "da0bdfa7-addf-4f1a-a6b4-fcdf3d56f524",
   "metadata": {},
   "outputs": [],
   "source": [
    "#Que Why is polymorphism important in OOP?\n",
    "\n",
    "#Ans Polymorphism allows different classes to be treated through a common interface. It improves flexibility and code maintainability."
   ]
  },
  {
   "cell_type": "code",
   "execution_count": null,
   "id": "973990bd-2288-4248-8ad3-9ea6195dc8e9",
   "metadata": {},
   "outputs": [],
   "source": [
    "#Que What is an abstract class in Python?\n",
    "\n",
    "#Ans An abstract class contains one or more abstract methods and can’t be instantiated. It provides a base for other classes to build on."
   ]
  },
  {
   "cell_type": "code",
   "execution_count": null,
   "id": "29c8f489-fa71-4933-8c30-898e5ae73867",
   "metadata": {},
   "outputs": [],
   "source": [
    "#Que What are the advantages of OOP?\n",
    "\n",
    "#Ans OOP improves code reusability, scalability, and maintainability. It models real-world systems more naturally."
   ]
  },
  {
   "cell_type": "code",
   "execution_count": null,
   "id": "c9e0b4a6-e678-43bb-9cf7-684621123b52",
   "metadata": {},
   "outputs": [],
   "source": [
    "#Que What is the difference between a class variable and an instance variable?\n",
    "\n",
    "#Ans Class variables are shared across all instances of a class. Instance variables are unique to each object."
   ]
  },
  {
   "cell_type": "code",
   "execution_count": null,
   "id": "1a049911-2c15-42a6-be56-2607973e6c54",
   "metadata": {},
   "outputs": [],
   "source": [
    "#Que What is multiple inheritance in Python?\n",
    "\n",
    "#Ans Multiple inheritance allows a class to inherit from more than one parent class. Python supports it, but it can introduce complexity via the Method Resolution Order (MRO)."
   ]
  },
  {
   "cell_type": "code",
   "execution_count": null,
   "id": "ed08b05a-ff61-47fb-93ad-5cc55da09c78",
   "metadata": {},
   "outputs": [],
   "source": [
    "#Que Explain the purpose of __str__ and __repr__ methods in Python.\n",
    "\n",
    "#Ans __str__ defines the human-readable string for an object, while __repr__ provides an unambiguous string mainly for developers. Both help in debugging and displaying objects."
   ]
  },
  {
   "cell_type": "code",
   "execution_count": null,
   "id": "3d38de8f-2f9d-42e0-8217-5fb7bc0bd2f4",
   "metadata": {},
   "outputs": [],
   "source": [
    "#Que What is the significance of the super() function in Python?\n",
    "\n",
    "#Ans super() calls a method from the parent class, often used in constructors. It ensures the parent’s methods are executed properly."
   ]
  },
  {
   "cell_type": "code",
   "execution_count": null,
   "id": "605750c9-1a3c-4273-afa6-0f8033112992",
   "metadata": {},
   "outputs": [],
   "source": [
    "#Que What is the significance of the __del__ method in Python?\n",
    "\n",
    "#Ans __del__ is a destructor called when an object is deleted. It helps in cleanup tasks like closing files or network connections."
   ]
  },
  {
   "cell_type": "code",
   "execution_count": null,
   "id": "99428226-1872-486e-8547-7e59b105cc14",
   "metadata": {},
   "outputs": [],
   "source": [
    "#Que  What is the difference between @staticmethod and @classmethod in Python?\n",
    "\n",
    "#Ans @staticmethod doesn't access class or instance data, while @classmethod does via cls. Class methods can modify class state; static methods can't."
   ]
  },
  {
   "cell_type": "code",
   "execution_count": null,
   "id": "76b15d73-cd12-416a-b09a-bfb36727bf05",
   "metadata": {},
   "outputs": [],
   "source": [
    "#Que How does polymorphism work in Python with inheritance?\n",
    "\n",
    "#Ans In inheritance, child classes can override parent methods to provide specific behavior. The same method call can execute different code based on the object’s class."
   ]
  },
  {
   "cell_type": "code",
   "execution_count": null,
   "id": "54ada69d-8434-4022-80ba-9fed28417a54",
   "metadata": {},
   "outputs": [],
   "source": [
    "#Que What is method chaining in Python OOP?\n",
    "\n",
    "#Ans Method chaining is calling multiple methods on the same object in a single line. It’s achieved by returning self from methods."
   ]
  },
  {
   "cell_type": "code",
   "execution_count": null,
   "id": "0f0251b8-6f20-47cd-8e4d-c5c5f4531311",
   "metadata": {},
   "outputs": [],
   "source": [
    "#Que What is the purpose of the __call__ method in Python?\n",
    "\n",
    "#Ans The __call__ method lets an object behave like a function. It enables instances to be called directly."
   ]
  },
  {
   "cell_type": "code",
   "execution_count": 1,
   "id": "57e1eb39-3629-4c38-aa88-a58b4f99aca2",
   "metadata": {},
   "outputs": [
    {
     "name": "stdout",
     "output_type": "stream",
     "text": [
      "Bark!\n"
     ]
    }
   ],
   "source": [
    "#Que 1. Parent Class with Method Override\n",
    "\n",
    "class Animal:\n",
    "    def speak(self):\n",
    "        print(\"Animal speaks\")\n",
    "\n",
    "class Dog(Animal):\n",
    "    def speak(self):\n",
    "        print(\"Bark!\")\n",
    "\n",
    "d = Dog()\n",
    "d.speak()\n"
   ]
  },
  {
   "cell_type": "code",
   "execution_count": 2,
   "id": "20190075-2878-47ec-b0f2-96b3f0099b01",
   "metadata": {},
   "outputs": [
    {
     "name": "stdout",
     "output_type": "stream",
     "text": [
      "78.5\n",
      "24\n"
     ]
    }
   ],
   "source": [
    "#Que 2. Abstract Class with Derived Implementations\n",
    "\n",
    "from abc import ABC, abstractmethod\n",
    "\n",
    "class Shape(ABC):\n",
    "    @abstractmethod\n",
    "    def area(self):\n",
    "        pass\n",
    "\n",
    "class Circle(Shape):\n",
    "    def __init__(self, radius):\n",
    "        self.radius = radius\n",
    "\n",
    "    def area(self):\n",
    "        return 3.14 * self.radius ** 2\n",
    "\n",
    "class Rectangle(Shape):\n",
    "    def __init__(self, width, height):\n",
    "        self.width = width\n",
    "        self.height = height\n",
    "\n",
    "    def area(self):\n",
    "        return self.width * self.height\n",
    "\n",
    "c = Circle(5)\n",
    "r = Rectangle(4, 6)\n",
    "print(c.area())\n",
    "print(r.area())\n"
   ]
  },
  {
   "cell_type": "code",
   "execution_count": 3,
   "id": "9ddb3fb3-954b-4942-8170-caaed49c1f71",
   "metadata": {},
   "outputs": [
    {
     "name": "stdout",
     "output_type": "stream",
     "text": [
      "Electric Tesla 100 kWh\n"
     ]
    }
   ],
   "source": [
    "#Que 3. Multi-Level Inheritance\n",
    "\n",
    "class Vehicle:\n",
    "    def __init__(self, type):\n",
    "        self.type = type\n",
    "\n",
    "class Car(Vehicle):\n",
    "    def __init__(self, type, brand):\n",
    "        super().__init__(type)\n",
    "        self.brand = brand\n",
    "\n",
    "class ElectricCar(Car):\n",
    "    def __init__(self, type, brand, battery):\n",
    "        super().__init__(type, brand)\n",
    "        self.battery = battery\n",
    "\n",
    "e = ElectricCar(\"Electric\", \"Tesla\", \"100 kWh\")\n",
    "print(e.type, e.brand, e.battery)\n"
   ]
  },
  {
   "cell_type": "code",
   "execution_count": 4,
   "id": "799444a7-363a-4146-bc94-f3e3432aa767",
   "metadata": {},
   "outputs": [
    {
     "name": "stdout",
     "output_type": "stream",
     "text": [
      "Sparrow flies high.\n",
      "Penguins can't fly.\n"
     ]
    }
   ],
   "source": [
    "#Que 4. Polymorphism with Inheritance\n",
    "\n",
    "class Bird:\n",
    "    def fly(self):\n",
    "        print(\"Some birds can fly.\")\n",
    "\n",
    "class Sparrow(Bird):\n",
    "    def fly(self):\n",
    "        print(\"Sparrow flies high.\")\n",
    "\n",
    "class Penguin(Bird):\n",
    "    def fly(self):\n",
    "        print(\"Penguins can't fly.\")\n",
    "\n",
    "for bird in (Sparrow(), Penguin()):\n",
    "    bird.fly()\n"
   ]
  },
  {
   "cell_type": "code",
   "execution_count": 5,
   "id": "1825f224-ab76-40c2-b0b7-22ea1090c554",
   "metadata": {},
   "outputs": [
    {
     "name": "stdout",
     "output_type": "stream",
     "text": [
      "Balance: 300\n"
     ]
    }
   ],
   "source": [
    "#Que 5. Encapsulation\n",
    "\n",
    "class BankAccount:\n",
    "    def __init__(self):\n",
    "        self.__balance = 0\n",
    "\n",
    "    def deposit(self, amount):\n",
    "        self.__balance += amount\n",
    "\n",
    "    def withdraw(self, amount):\n",
    "        if amount <= self.__balance:\n",
    "            self.__balance -= amount\n",
    "        else:\n",
    "            print(\"Insufficient funds\")\n",
    "\n",
    "    def check_balance(self):\n",
    "        print(f\"Balance: {self.__balance}\")\n",
    "\n",
    "account = BankAccount()\n",
    "account.deposit(500)\n",
    "account.withdraw(200)\n",
    "account.check_balance()\n"
   ]
  },
  {
   "cell_type": "code",
   "execution_count": 6,
   "id": "7dedc4e3-b035-46f0-8e51-2cbea6b18a7d",
   "metadata": {},
   "outputs": [
    {
     "name": "stdout",
     "output_type": "stream",
     "text": [
      "Strumming the guitar\n",
      "Playing the piano\n"
     ]
    }
   ],
   "source": [
    "#Que 6. Runtime Polymorphism\n",
    "\n",
    "class Instrument:\n",
    "    def play(self):\n",
    "        print(\"Instrument is playing\")\n",
    "\n",
    "class Guitar(Instrument):\n",
    "    def play(self):\n",
    "        print(\"Strumming the guitar\")\n",
    "\n",
    "class Piano(Instrument):\n",
    "    def play(self):\n",
    "        print(\"Playing the piano\")\n",
    "\n",
    "for instrument in (Guitar(), Piano()):\n",
    "    instrument.play()\n"
   ]
  },
  {
   "cell_type": "code",
   "execution_count": 7,
   "id": "77f24334-7f8c-494c-a213-228c1785766a",
   "metadata": {},
   "outputs": [
    {
     "name": "stdout",
     "output_type": "stream",
     "text": [
      "8\n",
      "6\n"
     ]
    }
   ],
   "source": [
    "#Que 7. Class and Static Methods\n",
    "\n",
    "class MathOperations:\n",
    "    @classmethod\n",
    "    def add_numbers(cls, a, b):\n",
    "        return a + b\n",
    "\n",
    "    @staticmethod\n",
    "    def subtract_numbers(a, b):\n",
    "        return a - b\n",
    "\n",
    "print(MathOperations.add_numbers(5, 3))\n",
    "print(MathOperations.subtract_numbers(10, 4))\n"
   ]
  },
  {
   "cell_type": "code",
   "execution_count": null,
   "id": "9986407e-811e-47c1-bf98-acdd26dda068",
   "metadata": {},
   "outputs": [],
   "source": [
    "#Que 8. Count Instances Using Class Method\n",
    "\n",
    "class Person:\n",
    "    count = 0\n",
    "\n",
    "    def __init__(self):\n",
    "        Person.count += 1\n",
    "\n",
    "    @classmethod\n",
    "    def get_count(cls):\n",
    "        return cls.count\n",
    "\n",
    "p1 = Person()\n",
    "p2 = Person()\n",
    "print(Person.get_count())\n"
   ]
  },
  {
   "cell_type": "code",
   "execution_count": 8,
   "id": "d9a89943-35d6-43d3-af66-ffc0c713052c",
   "metadata": {},
   "outputs": [
    {
     "name": "stdout",
     "output_type": "stream",
     "text": [
      "3/4\n"
     ]
    }
   ],
   "source": [
    "#Que 9. Override __str__ in Fraction Class\n",
    "\n",
    "class Fraction:\n",
    "    def __init__(self, numerator, denominator):\n",
    "        self.numerator = numerator\n",
    "        self.denominator = denominator\n",
    "\n",
    "    def __str__(self):\n",
    "        return f\"{self.numerator}/{self.denominator}\"\n",
    "\n",
    "f = Fraction(3, 4)\n",
    "print(f)\n"
   ]
  },
  {
   "cell_type": "code",
   "execution_count": 9,
   "id": "205359ee-41b9-4a07-9f63-322b932d0dd8",
   "metadata": {},
   "outputs": [
    {
     "name": "stdout",
     "output_type": "stream",
     "text": [
      "(4, 6)\n"
     ]
    }
   ],
   "source": [
    "#Que 10. Operator Overloading\n",
    "\n",
    "class Vector:\n",
    "    def __init__(self, x, y):\n",
    "        self.x = x\n",
    "        self.y = y\n",
    "\n",
    "    def __add__(self, other):\n",
    "        return Vector(self.x + other.x, self.y + other.y)\n",
    "\n",
    "    def __str__(self):\n",
    "        return f\"({self.x}, {self.y})\"\n",
    "\n",
    "v1 = Vector(1, 2)\n",
    "v2 = Vector(3, 4)\n",
    "print(v1 + v2)\n"
   ]
  },
  {
   "cell_type": "code",
   "execution_count": 11,
   "id": "43ff49ce-db7c-4a9b-8bb8-6ef0b5d1e30f",
   "metadata": {},
   "outputs": [
    {
     "name": "stdout",
     "output_type": "stream",
     "text": [
      "Hello, my name is Jay and I am 30 years old.\n"
     ]
    }
   ],
   "source": [
    "#Que 11. Person Greeting\n",
    "\n",
    "class Person:\n",
    "    def __init__(self, name, age):\n",
    "        self.name = name\n",
    "        self.age = age\n",
    "\n",
    "    def greet(self):\n",
    "        print(f\"Hello, my name is {self.name} and I am {self.age} years old.\")\n",
    "\n",
    "p = Person(\"Jay\", 30)\n",
    "p.greet()\n"
   ]
  },
  {
   "cell_type": "code",
   "execution_count": 12,
   "id": "d549ff70-b03a-4130-822e-e82ac7166b16",
   "metadata": {},
   "outputs": [
    {
     "name": "stdout",
     "output_type": "stream",
     "text": [
      "85.0\n"
     ]
    }
   ],
   "source": [
    "#Que 12. Student Grade Average\n",
    "\n",
    "class Student:\n",
    "    def __init__(self, name, grades):\n",
    "        self.name = name\n",
    "        self.grades = grades\n",
    "\n",
    "    def average_grade(self):\n",
    "        return sum(self.grades) / len(self.grades)\n",
    "\n",
    "s = Student(\"Katu\", [90, 80, 85])\n",
    "print(s.average_grade())\n"
   ]
  },
  {
   "cell_type": "code",
   "execution_count": 13,
   "id": "dd153488-773b-4bb2-aa04-87bb187020b5",
   "metadata": {},
   "outputs": [
    {
     "name": "stdout",
     "output_type": "stream",
     "text": [
      "15\n"
     ]
    }
   ],
   "source": [
    "#Que 13. Rectangle Dimensions and Area\n",
    "\n",
    "class Rectangle:\n",
    "    def set_dimensions(self, width, height):\n",
    "        self.width = width\n",
    "        self.height = height\n",
    "\n",
    "    def area(self):\n",
    "        return self.width * self.height\n",
    "\n",
    "r = Rectangle()\n",
    "r.set_dimensions(5, 3)\n",
    "print(r.area())\n"
   ]
  },
  {
   "cell_type": "code",
   "execution_count": 14,
   "id": "880f6857-76aa-4134-a978-df87e920d750",
   "metadata": {},
   "outputs": [
    {
     "name": "stdout",
     "output_type": "stream",
     "text": [
      "800\n",
      "1300\n"
     ]
    }
   ],
   "source": [
    "#Que 14. Employee and Manager Salary\n",
    "\n",
    "class Employee:\n",
    "    def calculate_salary(self, hours, rate):\n",
    "        return hours * rate\n",
    "\n",
    "class Manager(Employee):\n",
    "    def calculate_salary(self, hours, rate, bonus):\n",
    "        return super().calculate_salary(hours, rate) + bonus\n",
    "\n",
    "e = Employee()\n",
    "m = Manager()\n",
    "print(e.calculate_salary(40, 20))\n",
    "print(m.calculate_salary(40, 20, 500))\n"
   ]
  },
  {
   "cell_type": "code",
   "execution_count": 15,
   "id": "834aafc6-1284-4504-aecd-0f694efae010",
   "metadata": {},
   "outputs": [
    {
     "name": "stdout",
     "output_type": "stream",
     "text": [
      "Total Price: $1600\n"
     ]
    }
   ],
   "source": [
    "#Que 15. Product Class with Total Price Calculation\n",
    "\n",
    "class Product:\n",
    "    def __init__(self, name, price, quantity):\n",
    "        self.name = name\n",
    "        self.price = price\n",
    "        self.quantity = quantity\n",
    "\n",
    "    def total_price(self):\n",
    "        return self.price * self.quantity\n",
    "\n",
    "p = Product(\"Laptop\", 800, 2)\n",
    "print(f\"Total Price: ${p.total_price()}\")\n"
   ]
  },
  {
   "cell_type": "code",
   "execution_count": 16,
   "id": "8da33128-d7a4-4c77-95a3-f890fa9c7324",
   "metadata": {},
   "outputs": [
    {
     "name": "stdout",
     "output_type": "stream",
     "text": [
      "Moo\n",
      "Baa\n"
     ]
    }
   ],
   "source": [
    "#Que 16. Abstract Animal Class with Derived Cow and Sheep Classes\n",
    "\n",
    "from abc import ABC, abstractmethod\n",
    "\n",
    "class Animal(ABC):\n",
    "    @abstractmethod\n",
    "    def sound(self):\n",
    "        pass\n",
    "\n",
    "class Cow(Animal):\n",
    "    def sound(self):\n",
    "        print(\"Moo\")\n",
    "\n",
    "class Sheep(Animal):\n",
    "    def sound(self):\n",
    "        print(\"Baa\")\n",
    "\n",
    "c = Cow()\n",
    "s = Sheep()\n",
    "c.sound()\n",
    "s.sound()\n"
   ]
  },
  {
   "cell_type": "code",
   "execution_count": null,
   "id": "70d6f9e6-6c07-4fac-a749-137849b79297",
   "metadata": {},
   "outputs": [],
   "source": [
    "#Que 17. Book Class with Method to Return Info\n",
    "\n",
    "class Book:\n",
    "    def __init__(self, title, author, year_published):\n",
    "        self.title = title\n",
    "        self.author = author\n",
    "        self.year_published = year_published\n",
    "\n",
    "    def get_book_info(self):\n",
    "        return f\"'{self.title}' by {self.author} ({self.year_published})\"\n",
    "\n",
    "b = Book(\"1984\", \"George Orwell\", 1949)\n",
    "print(b.get_book_info())\n"
   ]
  },
  {
   "cell_type": "code",
   "execution_count": 17,
   "id": "575142cf-04a3-4ab4-bf5f-74057e00f11e",
   "metadata": {},
   "outputs": [
    {
     "name": "stdout",
     "output_type": "stream",
     "text": [
      "Mansion at 123 Rich Lane, Price: $5000000, Rooms: 10\n"
     ]
    }
   ],
   "source": [
    "#Que 18. House and Derived Mansion Class\n",
    "\n",
    "class House:\n",
    "    def __init__(self, address, price):\n",
    "        self.address = address\n",
    "        self.price = price\n",
    "\n",
    "class Mansion(House):\n",
    "    def __init__(self, address, price, number_of_rooms):\n",
    "        super().__init__(address, price)\n",
    "        self.number_of_rooms = number_of_rooms\n",
    "\n",
    "m = Mansion(\"123 Rich Lane\", 5000000, 10)\n",
    "print(f\"Mansion at {m.address}, Price: ${m.price}, Rooms: {m.number_of_rooms}\")\n"
   ]
  },
  {
   "cell_type": "code",
   "execution_count": null,
   "id": "f0a6e0ab-0c98-4d74-a584-b0b6e13e1492",
   "metadata": {},
   "outputs": [],
   "source": []
  }
 ],
 "metadata": {
  "kernelspec": {
   "display_name": "Python 3 (ipykernel)",
   "language": "python",
   "name": "python3"
  },
  "language_info": {
   "codemirror_mode": {
    "name": "ipython",
    "version": 3
   },
   "file_extension": ".py",
   "mimetype": "text/x-python",
   "name": "python",
   "nbconvert_exporter": "python",
   "pygments_lexer": "ipython3",
   "version": "3.13.5"
  }
 },
 "nbformat": 4,
 "nbformat_minor": 5
}
