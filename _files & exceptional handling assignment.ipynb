{
 "cells": [
  {
   "cell_type": "code",
   "execution_count": null,
   "id": "8b0b62ab-38de-48a2-9461-21fbf5f8b9a4",
   "metadata": {},
   "outputs": [],
   "source": [
    "# Q 1 Difference between interpreted and compiled languages\n",
    "\n",
    "# Ans Compiled languages translate code into machine code before execution, making them generally faster. Interpreted languages run code line-by-line, offering more flexibility but often slower performance."
   ]
  },
  {
   "cell_type": "code",
   "execution_count": null,
   "id": "d3659ae9-ca45-4d54-9ad6-c6a62ddbe7d8",
   "metadata": {},
   "outputs": [],
   "source": [
    "# Q 2 Exception handling in Python\n",
    "\n",
    "# Ans Exception handling lets you manage runtime errors gracefully. It prevents the program from crashing by catching and responding to errors."
   ]
  },
  {
   "cell_type": "code",
   "execution_count": null,
   "id": "fd234340-9e33-4e45-a41b-52829bbb236d",
   "metadata": {},
   "outputs": [],
   "source": [
    "# Q 3 Purpose of the finally block\n",
    "\n",
    "# Ans The finally block runs no matter what happens in try/except. It’s used for cleanup tasks like closing files or releasing resources."
   ]
  },
  {
   "cell_type": "code",
   "execution_count": null,
   "id": "ed3b7603-63d6-4deb-9691-6bc0793a4a44",
   "metadata": {},
   "outputs": [],
   "source": [
    "# Q \n",
    "\n",
    "# Ans "
   ]
  },
  {
   "cell_type": "code",
   "execution_count": null,
   "id": "2262e353-3985-487c-967a-3659dde277a9",
   "metadata": {},
   "outputs": [],
   "source": [
    "# Q 4 Logging in Python\n",
    "\n",
    "# Ans Logging records program events for debugging or monitoring. It’s better than print() because it supports levels, formatting, and output control."
   ]
  },
  {
   "cell_type": "code",
   "execution_count": null,
   "id": "efa7037e-98d5-49d3-9261-afa12beb0dd8",
   "metadata": {},
   "outputs": [],
   "source": [
    "# Q 5 Significance of the __del__ method\n",
    "\n",
    "# Ans __del__ is a destructor method called when an object is about to be destroyed. It’s used for final cleanup tasks."
   ]
  },
  {
   "cell_type": "code",
   "execution_count": null,
   "id": "f8b34e59-4c3b-43ea-a7a8-241e244361ea",
   "metadata": {},
   "outputs": [],
   "source": [
    "# Q 6 Difference between import and from ... import\n",
    "\n",
    "# Ans import module imports the entire module. from module import item imports only a specific function, class, or variable."
   ]
  },
  {
   "cell_type": "code",
   "execution_count": null,
   "id": "f5e000c8-104a-4f9c-b86e-441a6ba9b316",
   "metadata": {},
   "outputs": [],
   "source": [
    "# Q 7 Handling multiple exceptions\n",
    "\n",
    "# Ans You can catch multiple exceptions by listing them in parentheses. Or, use multiple except blocks for different error types."
   ]
  },
  {
   "cell_type": "code",
   "execution_count": null,
   "id": "6be4797e-8589-4903-9525-416cf8f6995f",
   "metadata": {},
   "outputs": [],
   "source": [
    "# Q 8 Purpose of with statement in file handling\n",
    "\n",
    "# Ans with ensures files are automatically closed after use. It simplifies resource management and prevents file leaks."
   ]
  },
  {
   "cell_type": "code",
   "execution_count": null,
   "id": "1e12f751-4a9f-4cc3-bc1e-a3778caa5937",
   "metadata": {},
   "outputs": [],
   "source": [
    "# Q 9 Difference between multithreading and multiprocessing\n",
    "\n",
    "# Ans Multithreading runs multiple threads in the same process, sharing memory. Multiprocessing runs separate processes with independent memory spaces."
   ]
  },
  {
   "cell_type": "code",
   "execution_count": null,
   "id": "5a9742f4-af71-45ae-aace-54921d04cf8d",
   "metadata": {},
   "outputs": [],
   "source": [
    "# Q  10 Advantages of using logging\n",
    "\n",
    "# Ans Logging provides a history of events for debugging and monitoring. It supports different severity levels and outputs."
   ]
  },
  {
   "cell_type": "code",
   "execution_count": null,
   "id": "0ccdaa6e-2e39-4c67-9a53-312d912213bd",
   "metadata": {},
   "outputs": [],
   "source": [
    "# Q 11  Memory management in Python\n",
    "\n",
    "# Ans Python manages memory using private heaps and garbage collection. Developers can influence it with references and cleanup functions."
   ]
  },
  {
   "cell_type": "code",
   "execution_count": null,
   "id": "3d583087-0554-4a6c-abf7-aa2cf2b69f88",
   "metadata": {},
   "outputs": [],
   "source": [
    "# Q 12 Steps in exception handling\n",
    "\n",
    "# Ans Wrap risky code in try. Handle errors with except, cleanup in finally, and optional else for no-error code."
   ]
  },
  {
   "cell_type": "code",
   "execution_count": null,
   "id": "e0623e97-8d6b-4692-a869-5a78524326c8",
   "metadata": {},
   "outputs": [],
   "source": [
    "# Q 13 Importance of memory management\n",
    "\n",
    "# Ans Good memory management prevents leaks and slowdowns. It ensures efficient use of system resources."
   ]
  },
  {
   "cell_type": "code",
   "execution_count": null,
   "id": "680c6126-8b0a-4f0a-8f8c-40dc6fa9ea30",
   "metadata": {},
   "outputs": [],
   "source": [
    "# Q 14 Role of try and except\n",
    "\n",
    "# Ans try runs code that might fail. except catches and handles specific errors."
   ]
  },
  {
   "cell_type": "code",
   "execution_count": null,
   "id": "b22af9da-54c5-40b9-a8fb-1408908dafd1",
   "metadata": {},
   "outputs": [],
   "source": [
    "# Q 15  Python garbage collection system\n",
    "\n",
    "# Ans It automatically frees unused objects using reference counting and a cyclic garbage collector."
   ]
  },
  {
   "cell_type": "code",
   "execution_count": null,
   "id": "7a921f33-0f5b-4d9b-a8bf-8c2ccdc4f09c",
   "metadata": {},
   "outputs": [],
   "source": [
    "# Q 16 Purpose of else in exception handling\n",
    "\n",
    "# Ans else runs if no exception occurs in the try block. It keeps success logic separate from error handling."
   ]
  },
  {
   "cell_type": "code",
   "execution_count": null,
   "id": "e40330a5-8c06-4179-afc2-d610e366c5ba",
   "metadata": {},
   "outputs": [],
   "source": [
    "# Q 17 Common logging levels\n",
    "\n",
    "# Ans DEBUG, INFO, WARNING, ERROR, CRITICAL. They indicate the severity of logged events."
   ]
  },
  {
   "cell_type": "code",
   "execution_count": null,
   "id": "4c4f0ff4-d98f-43da-a6c3-a96cce3d5176",
   "metadata": {},
   "outputs": [],
   "source": [
    "# Q 18 Difference between os.fork() and multiprocessing\n",
    "\n",
    "# Ans os.fork() works only on Unix and creates a child process. multiprocessing works cross-platform and is easier to use."
   ]
  },
  {
   "cell_type": "code",
   "execution_count": null,
   "id": "2fbc2ca7-5245-44f8-a6c2-779f78ef78c2",
   "metadata": {},
   "outputs": [],
   "source": [
    "# Q 19 Importance of closing a file\n",
    "\n",
    "# Ans Closing a file frees system resources and ensures data is written properly."
   ]
  },
  {
   "cell_type": "code",
   "execution_count": null,
   "id": "1e921118-f6c0-481f-bb04-3e7f0c04d748",
   "metadata": {},
   "outputs": [],
   "source": [
    "# Q 20 Difference between file.read() and file.readline()\n",
    "\n",
    "# Ans read() returns the entire file or specified bytes. readline() returns one line at a time."
   ]
  },
  {
   "cell_type": "code",
   "execution_count": null,
   "id": "fa73cf4b-5944-4d5f-af3a-60cac4f2267f",
   "metadata": {},
   "outputs": [],
   "source": [
    "# Q 21 Purpose of logging module\n",
    "\n",
    "# Ans It provides a flexible system for logging messages in files, consoles, or other outputs."
   ]
  },
  {
   "cell_type": "code",
   "execution_count": null,
   "id": "b43555ed-7b33-4917-8387-c3ba89da9c59",
   "metadata": {},
   "outputs": [],
   "source": [
    "# Q 22 os module in file handling\n",
    "\n",
    "# Ans It helps interact with the operating system — creating, deleting, or navigating files and directories."
   ]
  },
  {
   "cell_type": "code",
   "execution_count": null,
   "id": "85a19f2a-15c3-4a97-95f0-53dbff25e175",
   "metadata": {},
   "outputs": [],
   "source": [
    "# Q 23 Challenges in memory management\n",
    "\n",
    "# Ans Handling large data, circular references, and fragmentation are common issues."
   ]
  },
  {
   "cell_type": "code",
   "execution_count": null,
   "id": "163191a8-d3e7-41b3-8575-6017fccd1424",
   "metadata": {},
   "outputs": [],
   "source": [
    "# Q 24 Raising an exception manually\n",
    "\n",
    "# Ans Use raise ExceptionType(\"message\") to trigger a custom error."
   ]
  },
  {
   "cell_type": "code",
   "execution_count": null,
   "id": "ec01b44e-aa71-4916-9d30-905df6236759",
   "metadata": {},
   "outputs": [],
   "source": [
    "# Q 25 Importance of multithreading\n",
    "\n",
    "# Ans It allows tasks like I/O to run concurrently. It improves responsiveness and CPU utilization.\n",
    "\n"
   ]
  },
  {
   "cell_type": "code",
   "execution_count": 52,
   "id": "b0177977-58d3-4fc3-854b-7c41b3f3a730",
   "metadata": {},
   "outputs": [
    {
     "name": "stdout",
     "output_type": "stream",
     "text": [
      "File written successfully.\n"
     ]
    }
   ],
   "source": [
    "# Q 1 Open file for writing and write string\n",
    "\n",
    "# Open file in write mode and write a string\n",
    "with open(\"myfile.txt\", \"w\") as f:\n",
    "    f.write(\"Hello from Jupyter Notebook!\")\n",
    "\n",
    "print(\"File written successfully.\")\n"
   ]
  },
  {
   "cell_type": "code",
   "execution_count": 4,
   "id": "b856cd1e-4ac9-4e1d-ba18-a0a5a45d2013",
   "metadata": {},
   "outputs": [
    {
     "name": "stdout",
     "output_type": "stream",
     "text": [
      "Hello, World!\n"
     ]
    }
   ],
   "source": [
    "# Q 2 Read file and print each line\n",
    "\n"
   ]
  },
  {
   "cell_type": "code",
   "execution_count": 5,
   "id": "4279e3c7-7107-4ba0-8319-199da6cdfe6e",
   "metadata": {},
   "outputs": [
    {
     "name": "stdout",
     "output_type": "stream",
     "text": [
      "File not found!\n"
     ]
    }
   ],
   "source": [
    "# Q 3 Handle case where file doesn't exist\n",
    "\n",
    "try:\n",
    "    with open(\"nofile.txt\", \"r\") as f:\n",
    "        print(f.read())\n",
    "except FileNotFoundError:\n",
    "    print(\"File not found!\")\n"
   ]
  },
  {
   "cell_type": "code",
   "execution_count": 12,
   "id": "69d0bc8a-d134-4fa2-bf06-457470f2c4f6",
   "metadata": {},
   "outputs": [
    {
     "name": "stdout",
     "output_type": "stream",
     "text": [
      "source.txt not found. Please create it first.\n"
     ]
    }
   ],
   "source": [
    "# Q 4 Read from one file, write to another\n",
    "try:\n",
    "    with open(\"source.txt\", \"r\") as src, open(\"dest.txt\", \"w\") as dst:\n",
    "        dst.write(src.read())\n",
    "except FileNotFoundError:\n",
    "    print(\"source.txt not found. Please create it first.\")\n",
    "\n"
   ]
  },
  {
   "cell_type": "code",
   "execution_count": 13,
   "id": "5521ff22-6d51-4a86-9440-a751bd9353ca",
   "metadata": {},
   "outputs": [
    {
     "name": "stdout",
     "output_type": "stream",
     "text": [
      "Cannot divide by zero!\n"
     ]
    }
   ],
   "source": [
    "# Q 5 Catch division by zero\n",
    "\n",
    "try:\n",
    "    print(10 / 0)\n",
    "except ZeroDivisionError:\n",
    "    print(\"Cannot divide by zero!\")\n",
    "\n"
   ]
  },
  {
   "cell_type": "code",
   "execution_count": 16,
   "id": "86e04c96-8990-4fc4-a15a-64956c8fa6bf",
   "metadata": {},
   "outputs": [],
   "source": [
    "# Q 6 Log division by zero error\n",
    "\n",
    "import logging\n",
    "logging.basicConfig(filename=\"error.log\", level=logging.ERROR)\n",
    "try:\n",
    "    10 / 0\n",
    "except ZeroDivisionError as e:\n",
    "    logging.error(\"Division error: %s\", e)\n"
   ]
  },
  {
   "cell_type": "code",
   "execution_count": 17,
   "id": "670ab5a3-95bb-4373-9440-06a030c0b6ed",
   "metadata": {},
   "outputs": [],
   "source": [
    "# Q 7 Log at INFO, ERROR, WARNING\n",
    "\n",
    "logging.info(\"Info message\")\n",
    "logging.warning(\"Warning message\")\n",
    "logging.error(\"Error message\")\n"
   ]
  },
  {
   "cell_type": "code",
   "execution_count": 18,
   "id": "97af1ad5-123d-47e5-8cbe-c54c23f59fab",
   "metadata": {},
   "outputs": [
    {
     "name": "stdout",
     "output_type": "stream",
     "text": [
      "Error opening file\n"
     ]
    }
   ],
   "source": [
    "# Q 8 Handle file opening error\n",
    "\n",
    "try:\n",
    "    with open(\"nofile.txt\") as f:\n",
    "        pass\n",
    "except IOError:\n",
    "    print(\"Error opening file\")\n"
   ]
  },
  {
   "cell_type": "code",
   "execution_count": 53,
   "id": "310b4dc0-20fc-4abe-8acc-803ea4554456",
   "metadata": {},
   "outputs": [
    {
     "name": "stdout",
     "output_type": "stream",
     "text": [
      "['Line 1\\n', 'Line 2\\n', 'Line 3']\n"
     ]
    }
   ],
   "source": [
    "# Q 9 Read file line-by-line into list\n",
    "\n",
    "# Create a sample file for testing\n",
    "with open(\"sample.txt\", \"w\") as f:\n",
    "    f.write(\"Line 1\\nLine 2\\nLine 3\")\n",
    "\n",
    "# Read file into a list\n",
    "with open(\"sample.txt\", \"r\") as f:\n",
    "    lines = f.readlines()\n",
    "\n",
    "print(lines)  # List with newline characters\n"
   ]
  },
  {
   "cell_type": "code",
   "execution_count": 54,
   "id": "6bf8e2d9-87af-4af5-9d6d-8501b62c1213",
   "metadata": {},
   "outputs": [
    {
     "name": "stdout",
     "output_type": "stream",
     "text": [
      "Data appended successfully.\n"
     ]
    }
   ],
   "source": [
    "# Q 10 Append data to existing file\n",
    "\n",
    "# Append text to an existing file\n",
    "with open(\"sample.txt\", \"a\") as f:\n",
    "    f.write(\"\\nThis is an appended line.\")\n",
    "\n",
    "print(\"Data appended successfully.\")\n"
   ]
  },
  {
   "cell_type": "code",
   "execution_count": 21,
   "id": "1b4313bc-6996-4d8c-81d6-4e22738512db",
   "metadata": {},
   "outputs": [
    {
     "name": "stdout",
     "output_type": "stream",
     "text": [
      "Key not found!\n"
     ]
    }
   ],
   "source": [
    "# Q 11 Handle missing dictionary key\n",
    "\n",
    "try:\n",
    "    mydict = {\"a\": 1}\n",
    "    print(mydict[\"b\"])\n",
    "except KeyError:\n",
    "    print(\"Key not found!\")\n"
   ]
  },
  {
   "cell_type": "code",
   "execution_count": 22,
   "id": "faaa6350-cbd4-4bed-9eb1-d9641bd5f622",
   "metadata": {},
   "outputs": [
    {
     "name": "stdout",
     "output_type": "stream",
     "text": [
      "Math error\n"
     ]
    }
   ],
   "source": [
    "# Q 12 Multiple except blocks\n",
    "\n",
    "try:\n",
    "    10 / 0\n",
    "except ZeroDivisionError:\n",
    "    print(\"Math error\")\n",
    "except ValueError:\n",
    "    print(\"Value error\")\n"
   ]
  },
  {
   "cell_type": "code",
   "execution_count": 23,
   "id": "f114b30c-c468-414c-8384-ab896bda1d65",
   "metadata": {},
   "outputs": [
    {
     "name": "stdout",
     "output_type": "stream",
     "text": [
      "Exists\n"
     ]
    }
   ],
   "source": [
    "# Q 13 Check if file exists\n",
    "\n",
    "import os\n",
    "if os.path.exists(\"file.txt\"):\n",
    "    print(\"Exists\")\n"
   ]
  },
  {
   "cell_type": "code",
   "execution_count": 24,
   "id": "f75ded0c-dbc2-4d8f-81eb-3c7502b0a9ff",
   "metadata": {},
   "outputs": [],
   "source": [
    "# Q 14  Log info and error\n",
    "\n",
    "logging.info(\"This is info\")\n",
    "logging.error(\"This is error\")\n"
   ]
  },
  {
   "cell_type": "code",
   "execution_count": 25,
   "id": "c938a369-f591-4349-b6d9-0ff1ee3a5ea4",
   "metadata": {},
   "outputs": [
    {
     "name": "stdout",
     "output_type": "stream",
     "text": [
      "Hello, World!New line\n",
      "\n"
     ]
    }
   ],
   "source": [
    "# Q 15 Print file content and handle empty\n",
    "\n",
    "with open(\"file.txt\") as f:\n",
    "    content = f.read()\n",
    "    print(content if content else \"File is empty\")\n"
   ]
  },
  {
   "cell_type": "code",
   "execution_count": 27,
   "id": "b928361d-b227-4c65-890d-4741df314b50",
   "metadata": {},
   "outputs": [
    {
     "name": "stdout",
     "output_type": "stream",
     "text": [
      "Collecting memory-profiler\n",
      "  Downloading memory_profiler-0.61.0-py3-none-any.whl.metadata (20 kB)\n",
      "Requirement already satisfied: psutil in c:\\users\\pc\\appdata\\local\\programs\\python\\python313\\lib\\site-packages (from memory-profiler) (7.0.0)\n",
      "Downloading memory_profiler-0.61.0-py3-none-any.whl (31 kB)\n",
      "Installing collected packages: memory-profiler\n",
      "Successfully installed memory-profiler-0.61.0\n",
      "Note: you may need to restart the kernel to use updated packages.\n"
     ]
    },
    {
     "name": "stderr",
     "output_type": "stream",
     "text": [
      "\n",
      "[notice] A new release of pip is available: 25.1.1 -> 25.2\n",
      "[notice] To update, run: python.exe -m pip install --upgrade pip\n"
     ]
    },
    {
     "name": "stdout",
     "output_type": "stream",
     "text": [
      "peak memory: 85.22 MiB, increment: 1.19 MiB\n"
     ]
    }
   ],
   "source": [
    "# Q 16 Memory profiling\n",
    "\n",
    "%pip install memory-profiler\n",
    "%load_ext memory_profiler\n",
    "%memit [i for i in range(1000)]\n"
   ]
  },
  {
   "cell_type": "code",
   "execution_count": 30,
   "id": "7b4b8fcf-bda0-4177-ad37-cde7be402551",
   "metadata": {},
   "outputs": [
    {
     "name": "stdout",
     "output_type": "stream",
     "text": [
      "numbers.txt has been created.\n"
     ]
    }
   ],
   "source": [
    "# Q 17 Write list of numbers to file\n",
    "\n",
    "# List of numbers\n",
    "numbers = [1, 2, 3, 4, 5]\n",
    "\n",
    "# Write each number on a new line\n",
    "with open(\"numbers.txt\", \"w\") as f:\n",
    "    for num in numbers:\n",
    "        f.write(f\"{num}\\n\")\n",
    "\n",
    "print(\"numbers.txt has been created.\")\n",
    "\n"
   ]
  },
  {
   "cell_type": "code",
   "execution_count": 50,
   "id": "347d7426-9de4-4a5f-b6a5-970b29a7955b",
   "metadata": {},
   "outputs": [
    {
     "name": "stdout",
     "output_type": "stream",
     "text": [
      "Files: ['demo.log']\n"
     ]
    }
   ],
   "source": [
    "# Q 18 Logging with file rotation after 1MB\n",
    "\n",
    "import logging\n",
    "from logging.handlers import RotatingFileHandler\n",
    "import glob\n",
    "\n",
    "# Small size for quick rotation\n",
    "handler = RotatingFileHandler(\"demo.log\", maxBytes=2000, backupCount=3)\n",
    "logging.basicConfig(level=logging.INFO, format=\"%(asctime)s - %(message)s\", handlers=[handler])\n",
    "\n",
    "for i in range(300):\n",
    "    logging.info(f\"Entry {i}\")\n",
    "\n",
    "print(\"Files:\", glob.glob(\"demo.log*\"))\n",
    "\n"
   ]
  },
  {
   "cell_type": "code",
   "execution_count": null,
   "id": "df74b60b-c9ae-4f28-a0b4-00e819a7b96a",
   "metadata": {},
   "outputs": [],
   "source": []
  },
  {
   "cell_type": "code",
   "execution_count": 35,
   "id": "92f9e033-97a7-41d5-b313-bb2ac8d32318",
   "metadata": {},
   "outputs": [
    {
     "name": "stdout",
     "output_type": "stream",
     "text": [
      "Index error\n"
     ]
    }
   ],
   "source": [
    "# Q 19 Handle IndexError and KeyError\n",
    "\n",
    "try:\n",
    "    lst = [1]\n",
    "    print(lst[2])\n",
    "except IndexError:\n",
    "    print(\"Index error\")\n",
    "except KeyError:\n",
    "    print(\"Key error\")\n"
   ]
  },
  {
   "cell_type": "code",
   "execution_count": 36,
   "id": "9162c77e-80f5-428b-bcff-17a6f5238636",
   "metadata": {},
   "outputs": [
    {
     "name": "stdout",
     "output_type": "stream",
     "text": [
      "Hello, World!New line\n",
      "\n"
     ]
    }
   ],
   "source": [
    "# Q  20 Read file with context manager\n",
    "\n",
    "with open(\"file.txt\", \"r\") as f:\n",
    "    print(f.read())\n"
   ]
  },
  {
   "cell_type": "code",
   "execution_count": 43,
   "id": "3f7a9bd6-85ed-4def-acb2-4f2f9de299ee",
   "metadata": {},
   "outputs": [
    {
     "name": "stdout",
     "output_type": "stream",
     "text": [
      "The word 'Python' occurs 4 times in the file.\n"
     ]
    }
   ],
   "source": [
    "# Q 21 Count occurrences of word\n",
    "# Create a sample file for testing\n",
    "with open(\"sample.txt\", \"w\") as f:\n",
    "    f.write(\"Python is great. Python is easy. I love Python!\\nPython rocks.\")\n",
    "\n",
    "# Word to search for\n",
    "word = \"Python\"\n",
    "\n",
    "# Count occurrences\n",
    "with open(\"sample.txt\", \"r\") as f:\n",
    "    content = f.read()\n",
    "    count = content.count(word)\n",
    "\n",
    "print(f\"The word '{word}' occurs {count} times in the file.\")\n",
    "\n"
   ]
  },
  {
   "cell_type": "code",
   "execution_count": 41,
   "id": "a6d90f97-26fb-48cf-b3b9-86bd5f31291c",
   "metadata": {},
   "outputs": [
    {
     "name": "stdout",
     "output_type": "stream",
     "text": [
      "File is empty.\n"
     ]
    }
   ],
   "source": [
    "# Q 22 Check if file is empty\n",
    "\n",
    "import os\n",
    "\n",
    "file_path = \"test.txt\"\n",
    "\n",
    "# Create an empty file for testing (optional)\n",
    "with open(file_path, \"w\") as f:\n",
    "    pass\n",
    "\n",
    "# Check if the file is empty\n",
    "if os.path.exists(file_path):\n",
    "    if os.path.getsize(file_path) == 0:\n",
    "        print(\"File is empty.\")\n",
    "    else:\n",
    "        print(\"File has content.\")\n",
    "else:\n",
    "    print(\"File does not exist.\")\n"
   ]
  },
  {
   "cell_type": "code",
   "execution_count": 56,
   "id": "c3a728b8-27b3-4042-b907-80c02922a682",
   "metadata": {},
   "outputs": [
    {
     "name": "stdout",
     "output_type": "stream",
     "text": [
      "An error occurred. Check file_errors.log for details.\n"
     ]
    }
   ],
   "source": [
    "# Q 23 Log error during file handling\n",
    "import logging\n",
    "\n",
    "# Configure logging to write errors to a file\n",
    "logging.basicConfig(\n",
    "    filename=\"file_errors.log\",\n",
    "    level=logging.ERROR,\n",
    "    format=\"%(asctime)s - %(levelname)s - %(message)s\"\n",
    ")\n",
    "\n",
    "# Try opening a file that doesn't exist\n",
    "try:\n",
    "    with open(\"non_existent.txt\", \"r\") as f:\n",
    "        content = f.read()\n",
    "except Exception as e:\n",
    "    logging.error(\"File handling error: %s\", e)\n",
    "    print(\"An error occurred. Check file_errors.log for details.\")\n"
   ]
  },
  {
   "cell_type": "code",
   "execution_count": null,
   "id": "21c9d9ea-8886-4076-9e15-ab8fbdd89271",
   "metadata": {},
   "outputs": [],
   "source": []
  }
 ],
 "metadata": {
  "kernelspec": {
   "display_name": "Python 3 (ipykernel)",
   "language": "python",
   "name": "python3"
  },
  "language_info": {
   "codemirror_mode": {
    "name": "ipython",
    "version": 3
   },
   "file_extension": ".py",
   "mimetype": "text/x-python",
   "name": "python",
   "nbconvert_exporter": "python",
   "pygments_lexer": "ipython3",
   "version": "3.13.5"
  }
 },
 "nbformat": 4,
 "nbformat_minor": 5
}
