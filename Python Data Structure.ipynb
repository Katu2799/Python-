{
 "cells": [
  {
   "cell_type": "code",
   "execution_count": null,
   "id": "a35ccd81-f623-4035-be0b-d5376d7a061e",
   "metadata": {},
   "outputs": [],
   "source": [
    "# Q-1 What are data structures, and why are they important?\n",
    "# Ans - Data structures organize and store data efficiently, enabling faster access, modification, and processing. They are essential for optimizing code performance and solving complex problems."
   ]
  },
  {
   "cell_type": "code",
   "execution_count": null,
   "id": "fe9eef8d-5513-4aea-bf98-53af4794732e",
   "metadata": {},
   "outputs": [],
   "source": [
    "# Q-2 Difference between mutable and immutable data types with examples\n",
    "# Ans- Mutable: Can be changed after creation (lists, my_list[0] = 5),Immutable: Cannot be changed ( tuples, strings, my_str[0] = 'a' raises an error)"
   ]
  },
  {
   "cell_type": "code",
   "execution_count": null,
   "id": "3a76bbe0-9dbe-446c-85d8-57589c8ce3c0",
   "metadata": {},
   "outputs": [],
   "source": [
    "# Q-3 Main differences between lists and tuples in Python\n",
    "# Ans- Lists are mutable, tuples are immutable.\n",
    "# Lists have more built-in methods, but tuples are faster and used for fixed data."
   ]
  },
  {
   "cell_type": "code",
   "execution_count": null,
   "id": "516e8afc-0a7e-45af-94d1-da2bb77cfbef",
   "metadata": {},
   "outputs": [],
   "source": [
    "# Q-4 How dictionaries store data\n",
    "# Ans Dictionaries store data as key-value pairs using a hash table, allowing quick access via unique keys."
   ]
  },
  {
   "cell_type": "code",
   "execution_count": null,
   "id": "960ebf02-f508-4fa3-a0df-1986429e1cc2",
   "metadata": {},
   "outputs": [],
   "source": [
    "# Q-5 Why use a set instead of a list in Python\n",
    "# Ans- Sets automatically remove duplicates and allow fast membership testing (in operation), ideal for uniqueness"
   ]
  },
  {
   "cell_type": "code",
   "execution_count": null,
   "id": "b34a2650-3b4e-408e-bae0-ff0852445313",
   "metadata": {},
   "outputs": [],
   "source": [
    "# Q-6 What is a string in Python, and how is it different from a list\n",
    "# Ans A string is an immutable sequence of characters; a list is mutable and can contain any data types."
   ]
  },
  {
   "cell_type": "code",
   "execution_count": null,
   "id": "a305308f-c42e-49b2-afbd-3cf2f0483a0e",
   "metadata": {},
   "outputs": [],
   "source": [
    "# Q-7 How do tuples ensure data integrity in Python\n",
    "# Ans- Their immutability prevents changes, making them suitable for fixed collections like coordinates or config settings."
   ]
  },
  {
   "cell_type": "code",
   "execution_count": null,
   "id": "7a942a49-69fe-4501-8f5f-7d7a302a1f4b",
   "metadata": {},
   "outputs": [],
   "source": [
    "# Q-8 What is a hash table, and how does it relate to dictionaries in Python\n",
    "# Ans- A hash table maps keys to values using a hash function. Python dictionaries use hash tables internally for fast lookups."
   ]
  },
  {
   "cell_type": "code",
   "execution_count": null,
   "id": "b61342d8-3dd0-49bc-ae4c-523d19e4cf7c",
   "metadata": {},
   "outputs": [],
   "source": [
    "# Q-9 Can lists contain different data types in Python\n",
    "# Ans- Yes, lists can hold mixed types [1, \"hello\", True]."
   ]
  },
  {
   "cell_type": "code",
   "execution_count": null,
   "id": "94f051aa-31db-46d7-80b3-ab53c1b4fa15",
   "metadata": {},
   "outputs": [],
   "source": [
    "# Q-10 Why are strings immutable in Python\n",
    "# Ans- For performance, security, and consistency, allowing safe sharing between different parts of a program."
   ]
  },
  {
   "cell_type": "code",
   "execution_count": null,
   "id": "a408aafb-9bf2-4c5f-a15b-626f9cf409af",
   "metadata": {},
   "outputs": [],
   "source": [
    "# Q-11 Advantages of dictionaries over lists for certain tasks\n",
    "# Ans- Faster lookups by key and better organization for related data (key-value pairs), especially for unordered data."
   ]
  },
  {
   "cell_type": "code",
   "execution_count": null,
   "id": "5a384a88-9d73-47ae-b350-626d22585cac",
   "metadata": {},
   "outputs": [],
   "source": [
    "# Q-12 How do sets handle duplicate values in Python\n",
    "# Ans- Sets automatically discard duplicates; only unique items are stored."
   ]
  },
  {
   "cell_type": "code",
   "execution_count": null,
   "id": "71668e3e-cb74-476a-9352-a9db342dbc6b",
   "metadata": {},
   "outputs": [],
   "source": [
    "# Q-13 Scenario where using a tuple is preferable over a list\n",
    "# Ans- Use a tuple to return multiple fixed values from a function or to use as a dictionary key (since tuples are hashable)."
   ]
  },
  {
   "cell_type": "code",
   "execution_count": null,
   "id": "da81fa98-aa9e-4685-bcd1-8e9fa770f2c2",
   "metadata": {},
   "outputs": [],
   "source": [
    "# Q-14 How “in” keyword works differently for lists and dictionaries\n",
    "# Ans- In a list: Checks for presence of a value, In a dictionary: Checks for presence of a key."
   ]
  },
  {
   "cell_type": "code",
   "execution_count": null,
   "id": "1e3b5aae-4526-497c-b62c-d499f076f77b",
   "metadata": {},
   "outputs": [],
   "source": [
    "# Q-15 Can you modify the elements of a tuple? Explain why or why not\n",
    "# Ans- No, tuples are immutable—once created, their elements cannot be changed."
   ]
  },
  {
   "cell_type": "code",
   "execution_count": null,
   "id": "9d3ddc77-9ef1-44da-8cfc-9385cc62a187",
   "metadata": {},
   "outputs": [],
   "source": [
    "# Q-16 What is a nested dictionary, and example use case\n",
    "# Ans-  A dictionary with another dictionary as a value.\n",
    "# Example: students = {\"Alice\": {\"age\": 20, \"grade\": \"A\"}}"
   ]
  },
  {
   "cell_type": "code",
   "execution_count": null,
   "id": "d2cde81b-58da-4f42-9270-162de787bea4",
   "metadata": {},
   "outputs": [],
   "source": [
    "# Q-17 Time complexity of accessing elements in a dictionary\n",
    "# Ans- Average-case time complexity is O(1) due to hash-based access."
   ]
  },
  {
   "cell_type": "code",
   "execution_count": null,
   "id": "6c82e8eb-3950-479e-b2f9-d0c86cddaa7f",
   "metadata": {},
   "outputs": [],
   "source": [
    "# Q-18 When are lists preferred over dictionaries:\n",
    "# Ans- When order matters, or when storing simple, sequential, and index-based data."
   ]
  },
  {
   "cell_type": "code",
   "execution_count": null,
   "id": "3500f275-163b-474d-a2f3-26dfc0149b3b",
   "metadata": {},
   "outputs": [],
   "source": [
    "# Q-19 Why are dictionaries considered unordered, and how does that affect data retrieval:\n",
    "# Ans- Until Python 3.6, dictionaries had no guaranteed order. Even now, order isn’t used for lookups—it’s based on keys."
   ]
  },
  {
   "cell_type": "code",
   "execution_count": null,
   "id": "145b5bd6-fd89-4888-873c-0c8ffcc69871",
   "metadata": {},
   "outputs": [],
   "source": [
    "# Q-20  Difference between a list and a dictionary in terms of data retrieval:\n",
    "# Ans- List: Access by index (my_list[0])\n",
    "# Dictionary: Access by key (my_dict[\"key\"])—faster and more descriptive.\n"
   ]
  },
  {
   "cell_type": "code",
   "execution_count": null,
   "id": "ab112186-fdc2-4648-9eb3-96e947842b72",
   "metadata": {},
   "outputs": [],
   "source": [
    "# Practical Question Answer"
   ]
  },
  {
   "cell_type": "code",
   "execution_count": 2,
   "id": "4798fb99-e721-49ca-96e8-06a2d57df837",
   "metadata": {},
   "outputs": [
    {
     "name": "stdout",
     "output_type": "stream",
     "text": [
      "Jay\n"
     ]
    }
   ],
   "source": [
    "#Create a string with your name and print it\n",
    "\n",
    "name = \"Jay\"\n",
    "print(name)\n"
   ]
  },
  {
   "cell_type": "code",
   "execution_count": 3,
   "id": "8b28fee0-9f0e-4d70-b345-21e438031f71",
   "metadata": {},
   "outputs": [
    {
     "name": "stdout",
     "output_type": "stream",
     "text": [
      "11\n"
     ]
    }
   ],
   "source": [
    "# Find the length of the string \"Hello World\"\n",
    "\n",
    "text = \"Hello World\"\n",
    "print(len(text))\n",
    "\n"
   ]
  },
  {
   "cell_type": "code",
   "execution_count": 4,
   "id": "9fcae959-3123-4d2e-86ac-0e3f7376bc99",
   "metadata": {},
   "outputs": [
    {
     "name": "stdout",
     "output_type": "stream",
     "text": [
      "Pyt\n"
     ]
    }
   ],
   "source": [
    "# Slice the first 3 characters from the string \"Python Programming\"\n",
    "\n",
    "s = \"Python Programming\"\n",
    "print(s[:3])\n"
   ]
  },
  {
   "cell_type": "code",
   "execution_count": 5,
   "id": "522741b1-6c3a-4e4e-932d-3c8be2bbd748",
   "metadata": {},
   "outputs": [
    {
     "name": "stdout",
     "output_type": "stream",
     "text": [
      "HELLO\n"
     ]
    }
   ],
   "source": [
    "# Convert the string \"hello\" to uppercase\n",
    "\n",
    "s = \"hello\"\n",
    "print(s.upper())\n"
   ]
  },
  {
   "cell_type": "code",
   "execution_count": 6,
   "id": "b4ba1356-bdab-455f-9b21-cda14a460e6f",
   "metadata": {},
   "outputs": [
    {
     "name": "stdout",
     "output_type": "stream",
     "text": [
      "I like orange\n"
     ]
    }
   ],
   "source": [
    "# Replace the word \"apple\" with \"orange\" in the string \"I like apple\"\n",
    "\n",
    "sentence = \"I like apple\"\n",
    "print(sentence.replace(\"apple\", \"orange\"))\n"
   ]
  },
  {
   "cell_type": "code",
   "execution_count": 7,
   "id": "169b7031-0506-433f-a883-4e2e76212219",
   "metadata": {},
   "outputs": [
    {
     "name": "stdout",
     "output_type": "stream",
     "text": [
      "[1, 2, 3, 4, 5]\n"
     ]
    }
   ],
   "source": [
    "# Create a list with numbers 1 to 5 and print it\n",
    "\n",
    "numbers = [1, 2, 3, 4, 5]\n",
    "print(numbers)\n"
   ]
  },
  {
   "cell_type": "code",
   "execution_count": 8,
   "id": "f049a3f6-0163-4abc-8a89-2dfbd825a8fe",
   "metadata": {},
   "outputs": [
    {
     "name": "stdout",
     "output_type": "stream",
     "text": [
      "[1, 2, 3, 4, 10]\n"
     ]
    }
   ],
   "source": [
    "# Append the number 10 to the list [1, 2, 3, 4]\n",
    "\n",
    "lst = [1, 2, 3, 4]\n",
    "lst.append(10)\n",
    "print(lst)\n"
   ]
  },
  {
   "cell_type": "code",
   "execution_count": 9,
   "id": "4a9c997c-d691-43c0-a20c-c9bb282871f9",
   "metadata": {},
   "outputs": [
    {
     "name": "stdout",
     "output_type": "stream",
     "text": [
      "[1, 2, 4, 5]\n"
     ]
    }
   ],
   "source": [
    "# Remove the number 3 from the list [1, 2, 3, 4, 5]\n",
    "\n",
    "lst = [1, 2, 3, 4, 5]\n",
    "lst.remove(3)\n",
    "print(lst)\n"
   ]
  },
  {
   "cell_type": "code",
   "execution_count": 10,
   "id": "533f45d9-874a-4e19-a2b9-539e35787014",
   "metadata": {},
   "outputs": [
    {
     "name": "stdout",
     "output_type": "stream",
     "text": [
      "b\n"
     ]
    }
   ],
   "source": [
    "# Access the second element in the list ['a', 'b', 'c', 'd']\n",
    "\n",
    "letters = ['a', 'b', 'c', 'd']\n",
    "print(letters[1])\n"
   ]
  },
  {
   "cell_type": "code",
   "execution_count": 11,
   "id": "3aac3623-af52-4977-85e1-abef2632402c",
   "metadata": {},
   "outputs": [
    {
     "name": "stdout",
     "output_type": "stream",
     "text": [
      "[50, 40, 30, 20, 10]\n"
     ]
    }
   ],
   "source": [
    "# Reverse the list [10, 20, 30, 40, 50]\n",
    "\n",
    "lst = [10, 20, 30, 40, 50]\n",
    "lst.reverse()\n",
    "print(lst)\n"
   ]
  },
  {
   "cell_type": "code",
   "execution_count": 12,
   "id": "86767077-408a-498d-8b7a-a8d4c283c6f8",
   "metadata": {},
   "outputs": [
    {
     "name": "stdout",
     "output_type": "stream",
     "text": [
      "(100, 200, 300)\n"
     ]
    }
   ],
   "source": [
    "# Create a tuple with the elements 100, 200, 300 and print it\n",
    "\n",
    "t = (100, 200, 300)\n",
    "print(t)\n"
   ]
  },
  {
   "cell_type": "code",
   "execution_count": 13,
   "id": "78e443e1-86a2-4910-9605-13bba5fc293d",
   "metadata": {},
   "outputs": [
    {
     "name": "stdout",
     "output_type": "stream",
     "text": [
      "blue\n"
     ]
    }
   ],
   "source": [
    "# Access the second-to-last element of the tuple ('red', 'green', 'blue', 'yellow')\n",
    "\n",
    "colors = ('red', 'green', 'blue', 'yellow')\n",
    "print(colors[-2])\n"
   ]
  },
  {
   "cell_type": "code",
   "execution_count": 14,
   "id": "1da47341-ed38-489a-99bc-0ca378c04fe4",
   "metadata": {},
   "outputs": [
    {
     "name": "stdout",
     "output_type": "stream",
     "text": [
      "5\n"
     ]
    }
   ],
   "source": [
    "#  Find the minimum number in the tuple (10, 20, 5, 15)\n",
    "\n",
    "t = (10, 20, 5, 15)\n",
    "print(min(t))\n"
   ]
  },
  {
   "cell_type": "code",
   "execution_count": 15,
   "id": "9dc78516-bcf4-46c1-b5be-f31f0d68eb76",
   "metadata": {},
   "outputs": [
    {
     "name": "stdout",
     "output_type": "stream",
     "text": [
      "1\n"
     ]
    }
   ],
   "source": [
    "# Find the index of the element \"cat\" in the tuple ('dog', 'cat', 'rabbit')\n",
    "\n",
    "animals = ('dog', 'cat', 'rabbit')\n",
    "print(animals.index(\"cat\"))\n"
   ]
  },
  {
   "cell_type": "code",
   "execution_count": 16,
   "id": "db5984bd-1dae-45b3-8981-c15c73ca3a52",
   "metadata": {},
   "outputs": [
    {
     "name": "stdout",
     "output_type": "stream",
     "text": [
      "True\n"
     ]
    }
   ],
   "source": [
    "# Create a tuple of fruits and check if \"kiwi\" is in it\n",
    "\n",
    "fruits = ('apple', 'banana', 'kiwi')\n",
    "print(\"kiwi\" in fruits)\n"
   ]
  },
  {
   "cell_type": "code",
   "execution_count": 17,
   "id": "86dbedb7-4426-418b-9cdf-d23f511ac253",
   "metadata": {},
   "outputs": [
    {
     "name": "stdout",
     "output_type": "stream",
     "text": [
      "{'c', 'b', 'a'}\n"
     ]
    }
   ],
   "source": [
    "# Create a set with elements 'a', 'b', 'c' and print it\n",
    "\n",
    "s = {'a', 'b', 'c'}\n",
    "print(s)\n"
   ]
  },
  {
   "cell_type": "code",
   "execution_count": 18,
   "id": "caaaa3da-eb85-4971-9ea2-ec263353f492",
   "metadata": {},
   "outputs": [
    {
     "name": "stdout",
     "output_type": "stream",
     "text": [
      "set()\n"
     ]
    }
   ],
   "source": [
    "# Clear all elements from the set {1, 2, 3, 4, 5}\n",
    "\n",
    "s = {1, 2, 3, 4, 5}\n",
    "s.clear()\n",
    "print(s)\n"
   ]
  },
  {
   "cell_type": "code",
   "execution_count": 19,
   "id": "c4486b8f-91c8-4dcf-a37f-6edbc53353b7",
   "metadata": {},
   "outputs": [
    {
     "name": "stdout",
     "output_type": "stream",
     "text": [
      "{1, 2, 3}\n"
     ]
    }
   ],
   "source": [
    "# Remove the element 4 from the set {1, 2, 3, 4}\n",
    "\n",
    "s = {1, 2, 3, 4}\n",
    "s.remove(4)\n",
    "print(s)\n"
   ]
  },
  {
   "cell_type": "code",
   "execution_count": 20,
   "id": "a03b6fa0-fef6-4717-aede-96d5874e2d02",
   "metadata": {},
   "outputs": [
    {
     "name": "stdout",
     "output_type": "stream",
     "text": [
      "{1, 2, 3, 4, 5}\n"
     ]
    }
   ],
   "source": [
    "#  Find the union of sets {1, 2, 3} and {3, 4, 5}\n",
    "\n",
    "a = {1, 2, 3}\n",
    "b = {3, 4, 5}\n",
    "print(a.union(b))\n"
   ]
  },
  {
   "cell_type": "code",
   "execution_count": 21,
   "id": "13c82a04-cb46-4f69-b2fc-f3b6be8df894",
   "metadata": {},
   "outputs": [
    {
     "name": "stdout",
     "output_type": "stream",
     "text": [
      "{2, 3}\n"
     ]
    }
   ],
   "source": [
    "# Find the intersection of sets {1, 2, 3} and {2, 3, 4} \n",
    "\n",
    "a = {1, 2, 3}\n",
    "b = {2, 3, 4}\n",
    "print(a.intersection(b))\n"
   ]
  },
  {
   "cell_type": "code",
   "execution_count": 22,
   "id": "c373839c-d8ac-4d0d-b480-d58bb8326b47",
   "metadata": {},
   "outputs": [
    {
     "name": "stdout",
     "output_type": "stream",
     "text": [
      "{'name': 'John', 'age': 25, 'city': 'New York'}\n"
     ]
    }
   ],
   "source": [
    "# Create a dictionary with keys \"name\", \"age\", \"city\", and print it\n",
    "\n",
    "person = {\"name\": \"John\", \"age\": 25, \"city\": \"New York\"}\n",
    "print(person)\n"
   ]
  },
  {
   "cell_type": "code",
   "execution_count": 23,
   "id": "ac0804b1-519e-4c89-a0b7-c1d0023f016b",
   "metadata": {},
   "outputs": [
    {
     "name": "stdout",
     "output_type": "stream",
     "text": [
      "{'name': 'John', 'age': 25, 'country': 'USA'}\n"
     ]
    }
   ],
   "source": [
    "# Add key-value \"country\": \"USA\" to dictionary\n",
    "\n",
    "person = {'name': 'John', 'age': 25}\n",
    "person[\"country\"] = \"USA\"\n",
    "print(person)\n"
   ]
  },
  {
   "cell_type": "code",
   "execution_count": 25,
   "id": "c706b8d0-3b29-4043-ac54-25e203ebbc75",
   "metadata": {},
   "outputs": [
    {
     "name": "stdout",
     "output_type": "stream",
     "text": [
      "Jay\n"
     ]
    }
   ],
   "source": [
    "# Access the value of the key \"name\" in dictionary \n",
    "\n",
    "person = {'name': 'Jay', 'age': 30}\n",
    "print(person[\"name\"])\n"
   ]
  },
  {
   "cell_type": "code",
   "execution_count": 26,
   "id": "b125ad77-929d-4e54-b6ee-df6e8ee32a55",
   "metadata": {},
   "outputs": [
    {
     "name": "stdout",
     "output_type": "stream",
     "text": [
      "{'name': 'Katu', 'city': 'New York'}\n"
     ]
    }
   ],
   "source": [
    "# Remove the key \"age\" from dictionary\n",
    "\n",
    "person = {'name': 'Katu', 'age': 22, 'city': 'New York'}\n",
    "person.pop(\"age\")\n",
    "print(person)\n"
   ]
  },
  {
   "cell_type": "code",
   "execution_count": 27,
   "id": "4e5fb251-6171-46c9-8a40-a79902c47142",
   "metadata": {},
   "outputs": [
    {
     "name": "stdout",
     "output_type": "stream",
     "text": [
      "True\n"
     ]
    }
   ],
   "source": [
    "# Check if key \"city\" exists in dictionary\n",
    "\n",
    "person = {'name': 'Alice', 'city': 'Paris'}\n",
    "print(\"city\" in person)\n"
   ]
  },
  {
   "cell_type": "code",
   "execution_count": 28,
   "id": "de346e29-6476-4321-ada9-fe8a3843c726",
   "metadata": {},
   "outputs": [
    {
     "name": "stdout",
     "output_type": "stream",
     "text": [
      "[1, 2, 3]\n",
      "(4, 5, 6)\n",
      "{'a': 1, 'b': 2}\n"
     ]
    }
   ],
   "source": [
    "# Create and print a list, tuple, and dictionary\n",
    "\n",
    "my_list = [1, 2, 3]\n",
    "my_tuple = (4, 5, 6)\n",
    "my_dict = {\"a\": 1, \"b\": 2}\n",
    "print(my_list)\n",
    "print(my_tuple)\n",
    "print(my_dict)\n"
   ]
  },
  {
   "cell_type": "code",
   "execution_count": 29,
   "id": "4e522c8e-7ab8-463f-ac08-18bef08783d3",
   "metadata": {},
   "outputs": [
    {
     "name": "stdout",
     "output_type": "stream",
     "text": [
      "[9, 18, 21, 48, 97]\n"
     ]
    }
   ],
   "source": [
    "# Create list of 5 random numbers between 1–100, sort and print\n",
    "\n",
    "import random\n",
    "numbers = random.sample(range(1, 101), 5)\n",
    "numbers.sort()\n",
    "print(numbers)\n"
   ]
  },
  {
   "cell_type": "code",
   "execution_count": 30,
   "id": "3d60e919-5120-4a1c-bc37-0d890583813c",
   "metadata": {},
   "outputs": [
    {
     "name": "stdout",
     "output_type": "stream",
     "text": [
      "date\n"
     ]
    }
   ],
   "source": [
    "# Create a list of strings and print the element at the third index\n",
    "\n",
    "words = [\"apple\", \"banana\", \"cherry\", \"date\", \"elderberry\"]\n",
    "print(words[3])\n"
   ]
  },
  {
   "cell_type": "code",
   "execution_count": 31,
   "id": "216d7ce1-559b-49a0-94a6-6565e37a35da",
   "metadata": {},
   "outputs": [
    {
     "name": "stdout",
     "output_type": "stream",
     "text": [
      "{'a': 1, 'b': 2, 'c': 3, 'd': 4}\n"
     ]
    }
   ],
   "source": [
    "# Combine two dictionaries and print the result\n",
    "\n",
    "dict1 = {\"a\": 1, \"b\": 2}\n",
    "dict2 = {\"c\": 3, \"d\": 4}\n",
    "combined = {**dict1, **dict2}\n",
    "print(combined)\n"
   ]
  },
  {
   "cell_type": "code",
   "execution_count": 32,
   "id": "c4dfe7bc-7a88-4760-9268-c6b3568f9f45",
   "metadata": {},
   "outputs": [
    {
     "name": "stdout",
     "output_type": "stream",
     "text": [
      "{'cherry', 'banana', 'apple'}\n"
     ]
    }
   ],
   "source": [
    "# Convert a list of strings into a set\n",
    "\n",
    "string_list = [\"apple\", \"banana\", \"apple\", \"cherry\"]\n",
    "string_set = set(string_list)\n",
    "print(string_set)\n"
   ]
  },
  {
   "cell_type": "code",
   "execution_count": null,
   "id": "83fc2d2a-828d-4ccd-a642-336fff20c4dc",
   "metadata": {},
   "outputs": [],
   "source": []
  }
 ],
 "metadata": {
  "kernelspec": {
   "display_name": "Python 3 (ipykernel)",
   "language": "python",
   "name": "python3"
  },
  "language_info": {
   "codemirror_mode": {
    "name": "ipython",
    "version": 3
   },
   "file_extension": ".py",
   "mimetype": "text/x-python",
   "name": "python",
   "nbconvert_exporter": "python",
   "pygments_lexer": "ipython3",
   "version": "3.13.5"
  }
 },
 "nbformat": 4,
 "nbformat_minor": 5
}
